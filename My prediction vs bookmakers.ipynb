{
    "cells": [
        {
            "cell_type": "markdown",
            "metadata": {},
            "source": "# My prediction vs Bookmakers  \n\n<br>\n<br>\n<center>\n    <img src=\"https://st.depositphotos.com/1002575/1632/i/950/depositphotos_16324839-stock-photo-sport-bet.jpg\" width=\"450\" alt=\"soccer.logo\"  />\n</center>\n<br>\n\n<div style=\"text-align: right\"> <b>By David Clavijo</b> </div>  \n  \n    \n    \n\n# About this Notebook\n\nIn this notebook, I'll compare the results got of the models with the predictions of the bookmakers. For this, we'll use the results got previously in the project. The steps that we'll do are following: \n\n1. Data preparation. We need to prepare the data of the bookmakers.\n\n2. To Calculate the Brier score for our predictions and bookmaker's predictions.\n\n3. Compare the Brier score."
        },
        {
            "cell_type": "markdown",
            "metadata": {},
            "source": "  \n  \n# About Database\n\nDatabase collected for forecasting the results of soccer matches (**Credits:https://www.football-data.co.uk/**).\nThe database consists of data of the five main leagues of world soccer by country **English Premier League (England), La Liga (Spain), Serie A (Italy), Bundesliga (Germany), and League 1 (France)**.\nIn the database, the data are recorded in a table for the season by each league. Example: EPL_2001, EPL, 2002, EPL_2003, etc.\nThe table is called using the following description:\n\n*   EPL: English Premier League (England)\n*   LALIGA: La Liga (Spain)\n*   SA: Serie A (Italy)\n*   BUNDESLIGA: Bundesliga (Germany)\n*   L1: League 1 (France)\n\nAfter each code by the league is used, the next character is \"underscore\",  and then continue the year of begin of the season like 2001, 2010, 2020, etc.\n\nFurther to the tables by each league and year, in the Database, I created  5 tables with records of the attendance in matches by each league, because the other tables don't exist the records of attendance. The tables are called:\n\n*   attendance_epl\n*   attendance_laliga\n*   attendance_sa\n*   attendance_bundesliga\n*   attendance_l1\n\nyou can see how I get the data from the web site of ESPN using web-scraping in my GitHub repository. The notebook is called **Web Scraping in ESPN**.\n\nAnother important variable is the market value of the teams, so this variable is a good predictor. Then in the database we have another five tables with the market value by each team by year. The tables are called:\n\n*   market_epl\n*   market_laliga\n*   market_seriea\n*   market_bundesliga\n*   market_ligue1\n  \nyou can see how I get the data from transfermarkt web site using web-scraping in my GitHub repository. The notebook is called **Web Scraping in transfermarkt**."
        },
        {
            "cell_type": "markdown",
            "metadata": {},
            "source": "## Headers code\nthe next code shows the abbreviations to headers of the tables:  \n  \n**Basic information matches soccer**  \nDiv = League Division  \nDate = Match Date (dd/mm/yy)  \nTime = Time of match kick off  \nHomeTeam = Home Team  \nAwayTeam = Away Team  \nFTHG and HG = Full Time Home Team Goals  \nFTAG and AG = Full Time Away Team Goals  \nFTR and Res = Full Time Result (H=Home Win, D=Draw, A=Away Win)  \nHTHG = Half Time Home Team Goals  \nHTAG = Half Time Away Team Goals  \nHTR = Half Time Result (H=Home Win, D=Draw, A=Away Win)  \nAttendance = Crowd Attendance  \nReferee = Match Referee  \n\n**Match Stats**  \nHS = Home Team Shots  \nAS = Away Team Shots  \nHST = Home Team Shots on Target  \nAST = Away Team Shots on Target  \nHHW = Home Team Hit Woodwork  \nAHW = Away Team Hit Woodwork  \nHC = Home Team Corners  \nAC = Away Team Corners  \nHF = Home Team Fouls Committed  \nAF = Away Team Fouls Committed  \nHFKC = Home Team Free Kicks Conceded  \nAFKC = Away Team Free Kicks Conceded  \nHO = Home Team Offsides  \nAO = Away Team Offsides  \nHY = Home Team Yellow Cards  \nAY = Away Team Yellow Cards  \nHR = Home Team Red Cards  \nAR = Away Team Red Cards  \nHBP = Home Team Bookings Points (10 = yellow, 25 = red)  \nABP = Away Team Bookings Points (10 = yellow, 25 = red)  \n  \nNote that Free Kicks Conceeded includes fouls, offsides and any other offense commmitted and will always be equal to or higher than the number of fouls. Fouls make up the vast majority of Free Kicks Conceded. Free Kicks Conceded are shown when specific data on Fouls are not available (France 2nd, Belgium 1st and Greece 1st divisions).  \n  \nNote also that English and Scottish yellow cards do not include the initial yellow card when a second is shown to a player converting it into a red, but this is included as a yellow (plus red) for European games.  \n  \n**Key to 1X2 (match) betting odds data:** \n  \nB365H = Bet365 home win odds  \nB365D = Bet365 draw odds  \nB365A = Bet365 away win odds  \nBSH = Blue Square home win odds  \nBSD = Blue Square draw odds  \nBSA = Blue Square away win odds  \nBWH = Bet&Win home win odds  \nBWD = Bet&Win draw odds  \nBWA = Bet&Win away win odds  \nGBH = Gamebookers home win odds  \nGBD = Gamebookers draw odds  \nGBA = Gamebookers away win odds  \nIWH = Interwetten home win odds  \nIWD = Interwetten draw odds  \nIWA = Interwetten away win odds  \nLBH = Ladbrokes home win odds  \nLBD = Ladbrokes draw odds  \nLBA = Ladbrokes away win odds  \nPSH and PH = Pinnacle home win odds  \nPSD and PD = Pinnacle draw odds  \nPSA and PA = Pinnacle away win odds  \nSOH = Sporting Odds home win odds  \nSOD = Sporting Odds draw odds  \nSOA = Sporting Odds away win odds  \nSBH = Sportingbet home win odds  \nSBD = Sportingbet draw odds  \nSBA = Sportingbet away win odds  \nSJH = Stan James home win odds  \nSJD = Stan James draw odds  \nSJA = Stan James away win odds  \nSYH = Stanleybet home win odds  \nSYD = Stanleybet draw odds  \nSYA = Stanleybet away win odds  \nVCH = VC Bet home win odds  \nVCD = VC Bet draw odds  \nVCA = VC Bet away win odds  \nWHH = William Hill home win odds  \nWHD = William Hill draw odds  \nWHA = William Hill away win odds  \n  \nBb1X2 = Number of BetBrain bookmakers used to calculate match odds averages and maximums  \nBbMxH = Betbrain maximum home win odds  \nBbAvH = Betbrain average home win odds  \nBbMxD = Betbrain maximum draw odds  \nBbAvD = Betbrain average draw win odds  \nBbMxA = Betbrain maximum away win odds  \nBbAvA = Betbrain average away win odds  \n  \nMaxH = Market maximum home win odds  \nMaxD = Market maximum draw win odds  \nMaxA = Market maximum away win odds  \nAvgH = Market average home win odds  \nAvgD = Market average draw win odds  \nAvgA = Market average away win odds  \n  \n**Key to total goals betting odds:**\n  \nBbOU = Number of BetBrain bookmakers used to calculate over/under 2.5 goals (total goals) averages and maximums  \nBbMx>2.5 = Betbrain maximum over 2.5 goals  \nBbAv>2.5 = Betbrain average over 2.5 goals  \nBbMx<2.5 = Betbrain maximum under 2.5 goals  \nBbAv<2.5 = Betbrain average under 2.5 goals  \n  \nGB>2.5 = Gamebookers over 2.5 goals  \nGB<2.5 = Gamebookers under 2.5 goals  \nB365>2.5 = Bet365 over 2.5 goals  \nB365<2.5 = Bet365 under 2.5 goals  \nP>2.5 = Pinnacle over 2.5 goals  \nP<2.5 = Pinnacle under 2.5 goals  \nMax>2.5 = Market maximum over 2.5 goals  \nMax<2.5 = Market maximum under 2.5 goals  \nAvg>2.5 = Market average over 2.5 goals  \nAvg<2.5 = Market average under 2.5 goals  \n  \n**Key to Asian handicap betting odds:**\n  \nBbAH = Number of BetBrain bookmakers used to Asian handicap averages and maximums  \nBbAHh = Betbrain size of handicap (home team)  \nAHh = Market size of handicap (home team) (since 2019/2020)  \nBbMxAHH = Betbrain maximum Asian handicap home team odds  \nBbAvAHH = Betbrain average Asian handicap home team odds  \nBbMxAHA = Betbrain maximum Asian handicap away team odds  \nBbAvAHA = Betbrain average Asian handicap away team odds  \n  \nGBAHH = Gamebookers Asian handicap home team odds  \nGBAHA = Gamebookers Asian handicap away team odds  \nGBAH = Gamebookers size of handicap (home team)  \nLBAHH = Ladbrokes Asian handicap home team odds  \nLBAHA = Ladbrokes Asian handicap away team odds  \nLBAH = Ladbrokes size of handicap (home team)  \nB365AHH = Bet365 Asian handicap home team odds  \nB365AHA = Bet365 Asian handicap away team odds  \nB365AH = Bet365 size of handicap (home team)  \nPAHH = Pinnacle Asian handicap home team odds  \nPAHA = Pinnacle Asian handicap away team odds  \nMaxAHH = Market maximum Asian handicap home team odds  \nMaxAHA = Market maximum Asian handicap away team odds  \nAvgAHH = Market average Asian handicap home team odds  \nAvgAHA = Market average Asian handicap away team odds  \n  \nClosing odds (last odds before match starts)  \n\nAs above but with an additional \"C\" character following the bookmaker abbreviation/Max/Avg.Football-Data would like to acknowledge the following sources which have been utilised in the compilation of Football-Data's results and odds files.Current results (full time, half time). XScores - http://www.xscores .com  \n\nMatch statistics BBC, ESPN Soccer, Bundesliga.de, Gazzetta.it and Football.fr  \n\nBookmakers betting odds. Individual bookmakers. Betting odds for weekend games are collected Friday afternoons, and on Tuesday afternoons for midweek games. "
        },
        {
            "cell_type": "markdown",
            "metadata": {},
            "source": "![purple-divider](https://user-images.githubusercontent.com/7065401/52071927-c1cd7100-2562-11e9-908a-dde91ba14e59.png) "
        },
        {
            "cell_type": "markdown",
            "metadata": {},
            "source": "# 1. Connect to Database.\n\nThe source of the data is a Database of Db2 (IBM Database). To connect with the database we can use the library **sqlalchemy** that helps to load the data and edit them like a dataframe of pandas:"
        },
        {
            "cell_type": "code",
            "execution_count": 5,
            "metadata": {},
            "outputs": [
                {
                    "name": "stdout",
                    "output_type": "stream",
                    "text": "Requirement already satisfied: sqlalchemy==1.3.9 in /opt/conda/envs/Python-3.8-main/lib/python3.8/site-packages (1.3.9)\r\n"
                }
            ],
            "source": "!pip install sqlalchemy==1.3.9 #install libraries if you don't have them.\nfrom sqlalchemy import create_engine"
        },
        {
            "cell_type": "markdown",
            "metadata": {},
            "source": "### 1.1 connection to Database..\nin the next chunk of code hidden (personal access to the database), the connection is established."
        },
        {
            "cell_type": "code",
            "execution_count": 6,
            "metadata": {},
            "outputs": [],
            "source": "# The code was removed by Watson Studio for sharing."
        },
        {
            "cell_type": "code",
            "execution_count": 7,
            "metadata": {},
            "outputs": [],
            "source": "# The code was removed by Watson Studio for sharing."
        },
        {
            "cell_type": "code",
            "execution_count": 8,
            "metadata": {},
            "outputs": [],
            "source": "#Connection to Database...\n#SQL Alchemy URL\nengine = create_engine(sqla_url)\nconn = engine.connect()"
        },
        {
            "cell_type": "markdown",
            "metadata": {},
            "source": "### 1.2 Retrieve data into Pandas  \n  \n  To edit the data in pandas we can load each table of the database in one dataframe to each one. The database has next tables:  \n  \n**EPL**  2001 to 2020  \n**Bundesliga**  2003 to 2020  \n**La Liga** 2000 to 2020  \n**Serie A** 2002 to 2020  \n**Ligue 1** 2015 to 2020  \n\n**attendance_epl** 2003 to 2020 (only one table)  \n**attendance_laliga** 2003 to 2020 (only one table)  \n**attendance_sa** 2003 to 2020 (only one table)  \n**attendance_bundesliga** 2003 to 2020 (only one table)   \n**attendance_l1** 2015 to 2020 (only one table)\n\n**market_epl** 2005 to 2021 (only one table)  \n**market_laliga** 2005 to 2021 (only one table)   \n**market_seriea** 2005 to 2021 (only one table)    \n**market_bundesliga** 2005 to 2021 (only one table)     \n**market_ligue1** 2005 to 2021 (only one table)  "
        },
        {
            "cell_type": "markdown",
            "metadata": {},
            "source": "We have data from three different sources, so the data can have different writing by the same records. Further, the data have a different range amount of records.\n  \nThe next code line creates one list with the names of the tables of stats from the database."
        },
        {
            "cell_type": "code",
            "execution_count": 9,
            "metadata": {},
            "outputs": [],
            "source": "#list of years\nyears=[str(2000+i) for i in range(21)] #2000 to 2020\n\n#list of leagues by each year\nepl = [\"epl_\"+i for i in years]\nbundesliga = [\"bundesliga_\"+i for i in years]\nlaliga = [\"laliga_\"+i for i in years]\nseriea = [\"sa_\"+i for i in years]\nligue1 = [\"l1_\"+i for i in years]\ntables = epl[3:] + bundesliga[3:] + laliga[3:] + seriea[3:] + ligue1[-6:]"
        },
        {
            "cell_type": "markdown",
            "metadata": {},
            "source": "The next code loads the tables of the database using pandas and concatenates them. This way we create **one** Dataframe for the tables with stats"
        },
        {
            "cell_type": "code",
            "execution_count": 10,
            "metadata": {},
            "outputs": [],
            "source": "import pandas as pd\ndf_stats = pd.DataFrame()\n\nfor table in tables:\n    #query statement to retrieve all rows in table\n    selectQuery = \"select * from \" + table\n    #retrieve the query results into a pandas dataframe\n    try:\n        df_table = pd.read_sql(sql=selectQuery, con=engine)\n        df_stats = pd.concat([df_stats, df_table], ignore_index=True)\n    except:\n        print(\"error : \", table)"
        },
        {
            "cell_type": "markdown",
            "metadata": {},
            "source": "The next line shows the headers of the columns in the dataframe. In this notebook we need the data about odds."
        },
        {
            "cell_type": "code",
            "execution_count": 11,
            "metadata": {},
            "outputs": [
                {
                    "data": {
                        "text/plain": "array(['INDEX', 'div', 'DATE', 'hometeam', 'awayteam', 'fthg', 'ftag',\n       'ftr', 'hthg', 'htag', 'htr', 'referee', 'hs', 'AS', 'hst', 'ast',\n       'hf', 'af', 'hc', 'ac', 'hy', 'ay', 'hr', 'ar', 'b365h', 'b365d',\n       'b365a', 'gbh', 'gbd', 'gba', 'iwh', 'iwd', 'iwa', 'lbh', 'lbd',\n       'lba', 'soh', 'sod', 'soa', 'sbh', 'sbd', 'sba', 'whh', 'whd',\n       'wha', 'gb_2_5', 'gb_2_5_1', 'b365_2_5', 'b365_2_5_1', 'gbahh',\n       'gbaha', 'gbah', 'lbahh', 'lbaha', 'lbah', 'b365ahh', 'b365aha',\n       'b365ah', 'bwh', 'bwd', 'bwa', 'sjh', 'sjd', 'sja', 'vch', 'vcd',\n       'vca', 'bb1x2', 'bbmxh', 'bbavh', 'bbmxd', 'bbavd', 'bbmxa',\n       'bbava', 'bbou', 'bbmx_2_5', 'bbav_2_5', 'bbmx_2_5_1',\n       'bbav_2_5_1', 'bbah', 'bbahh', 'bbmxahh', 'bbavahh', 'bbmxaha',\n       'bbavaha', 'bsh', 'bsd', 'bsa', 'psh', 'psd', 'psa', 'psch',\n       'pscd', 'psca', 'TIME', 'maxh', 'maxd', 'maxa', 'avgh', 'avgd',\n       'avga', 'p_2_5', 'p_2_5_1', 'max_2_5', 'max_2_5_1', 'avg_2_5',\n       'avg_2_5_1', 'ahh', 'pahh', 'paha', 'maxahh', 'maxaha', 'avgahh',\n       'avgaha', 'b365ch', 'b365cd', 'b365ca', 'bwch', 'bwcd', 'bwca',\n       'iwch', 'iwcd', 'iwca', 'whch', 'whcd', 'whca', 'vcch', 'vccd',\n       'vcca', 'maxch', 'maxcd', 'maxca', 'avgch', 'avgcd', 'avgca',\n       'b365c_2_5', 'b365c_2_5_1', 'pc_2_5', 'pc_2_5_1', 'maxc_2_5',\n       'maxc_2_5_1', 'avgc_2_5', 'avgc_2_5_1', 'ahch', 'b365cahh',\n       'b365caha', 'pcahh', 'pcaha', 'maxcahh', 'maxcaha', 'avgcahh',\n       'avgcaha'], dtype=object)"
                    },
                    "execution_count": 11,
                    "metadata": {},
                    "output_type": "execute_result"
                }
            ],
            "source": "#list of columns\ndf_stats.columns.values"
        },
        {
            "cell_type": "code",
            "execution_count": 12,
            "metadata": {},
            "outputs": [
                {
                    "data": {
                        "text/html": "<div>\n<style scoped>\n    .dataframe tbody tr th:only-of-type {\n        vertical-align: middle;\n    }\n\n    .dataframe tbody tr th {\n        vertical-align: top;\n    }\n\n    .dataframe thead th {\n        text-align: right;\n    }\n</style>\n<table border=\"1\" class=\"dataframe\">\n  <thead>\n    <tr style=\"text-align: right;\">\n      <th></th>\n      <th>b365h</th>\n      <th>b365d</th>\n      <th>b365a</th>\n      <th>gbh</th>\n      <th>gbd</th>\n      <th>gba</th>\n      <th>iwh</th>\n      <th>iwd</th>\n      <th>iwa</th>\n      <th>lbh</th>\n      <th>...</th>\n      <th>b365caha</th>\n      <th>pcahh</th>\n      <th>pcaha</th>\n      <th>maxcahh</th>\n      <th>maxcaha</th>\n      <th>avgcahh</th>\n      <th>avgcaha</th>\n      <th>hometeam</th>\n      <th>awayteam</th>\n      <th>DATE</th>\n    </tr>\n  </thead>\n  <tbody>\n    <tr>\n      <th>0</th>\n      <td>1.400</td>\n      <td>3.80</td>\n      <td>8.00</td>\n      <td>1.44</td>\n      <td>4.00</td>\n      <td>7.0</td>\n      <td>1.35</td>\n      <td>4.0</td>\n      <td>7.0</td>\n      <td>1.333</td>\n      <td>...</td>\n      <td>NaN</td>\n      <td>NaN</td>\n      <td>NaN</td>\n      <td>NaN</td>\n      <td>NaN</td>\n      <td>NaN</td>\n      <td>NaN</td>\n      <td>Arsenal</td>\n      <td>Everton</td>\n      <td>2003-08-16</td>\n    </tr>\n    <tr>\n      <th>1</th>\n      <td>2.375</td>\n      <td>3.25</td>\n      <td>2.75</td>\n      <td>2.35</td>\n      <td>3.25</td>\n      <td>2.8</td>\n      <td>2.50</td>\n      <td>3.0</td>\n      <td>2.5</td>\n      <td>2.200</td>\n      <td>...</td>\n      <td>NaN</td>\n      <td>NaN</td>\n      <td>NaN</td>\n      <td>NaN</td>\n      <td>NaN</td>\n      <td>NaN</td>\n      <td>NaN</td>\n      <td>Birmingham</td>\n      <td>Tottenham</td>\n      <td>2003-08-16</td>\n    </tr>\n    <tr>\n      <th>2</th>\n      <td>1.615</td>\n      <td>3.40</td>\n      <td>5.50</td>\n      <td>1.68</td>\n      <td>3.40</td>\n      <td>5.0</td>\n      <td>1.70</td>\n      <td>3.2</td>\n      <td>4.2</td>\n      <td>1.615</td>\n      <td>...</td>\n      <td>NaN</td>\n      <td>NaN</td>\n      <td>NaN</td>\n      <td>NaN</td>\n      <td>NaN</td>\n      <td>NaN</td>\n      <td>NaN</td>\n      <td>Blackburn</td>\n      <td>Wolves</td>\n      <td>2003-08-16</td>\n    </tr>\n    <tr>\n      <th>3</th>\n      <td>2.300</td>\n      <td>3.25</td>\n      <td>2.80</td>\n      <td>2.40</td>\n      <td>3.25</td>\n      <td>2.7</td>\n      <td>2.10</td>\n      <td>3.1</td>\n      <td>3.0</td>\n      <td>2.375</td>\n      <td>...</td>\n      <td>NaN</td>\n      <td>NaN</td>\n      <td>NaN</td>\n      <td>NaN</td>\n      <td>NaN</td>\n      <td>NaN</td>\n      <td>NaN</td>\n      <td>Fulham</td>\n      <td>Middlesbrough</td>\n      <td>2003-08-16</td>\n    </tr>\n    <tr>\n      <th>4</th>\n      <td>2.500</td>\n      <td>3.20</td>\n      <td>2.60</td>\n      <td>2.50</td>\n      <td>3.25</td>\n      <td>2.6</td>\n      <td>2.20</td>\n      <td>3.1</td>\n      <td>2.8</td>\n      <td>2.500</td>\n      <td>...</td>\n      <td>NaN</td>\n      <td>NaN</td>\n      <td>NaN</td>\n      <td>NaN</td>\n      <td>NaN</td>\n      <td>NaN</td>\n      <td>NaN</td>\n      <td>Leicester</td>\n      <td>Southampton</td>\n      <td>2003-08-16</td>\n    </tr>\n  </tbody>\n</table>\n<p>5 rows \u00d7 131 columns</p>\n</div>",
                        "text/plain": "   b365h  b365d  b365a   gbh   gbd  gba   iwh  iwd  iwa    lbh  ...  b365caha  \\\n0  1.400   3.80   8.00  1.44  4.00  7.0  1.35  4.0  7.0  1.333  ...       NaN   \n1  2.375   3.25   2.75  2.35  3.25  2.8  2.50  3.0  2.5  2.200  ...       NaN   \n2  1.615   3.40   5.50  1.68  3.40  5.0  1.70  3.2  4.2  1.615  ...       NaN   \n3  2.300   3.25   2.80  2.40  3.25  2.7  2.10  3.1  3.0  2.375  ...       NaN   \n4  2.500   3.20   2.60  2.50  3.25  2.6  2.20  3.1  2.8  2.500  ...       NaN   \n\n   pcahh  pcaha  maxcahh  maxcaha  avgcahh  avgcaha    hometeam  \\\n0    NaN    NaN      NaN      NaN      NaN      NaN     Arsenal   \n1    NaN    NaN      NaN      NaN      NaN      NaN  Birmingham   \n2    NaN    NaN      NaN      NaN      NaN      NaN   Blackburn   \n3    NaN    NaN      NaN      NaN      NaN      NaN      Fulham   \n4    NaN    NaN      NaN      NaN      NaN      NaN   Leicester   \n\n        awayteam        DATE  \n0        Everton  2003-08-16  \n1      Tottenham  2003-08-16  \n2         Wolves  2003-08-16  \n3  Middlesbrough  2003-08-16  \n4    Southampton  2003-08-16  \n\n[5 rows x 131 columns]"
                    },
                    "execution_count": 12,
                    "metadata": {},
                    "output_type": "execute_result"
                }
            ],
            "source": "df_bets = df_stats.iloc[:, 24:].copy()\ndf_bets[[\"hometeam\",\"awayteam\",\"DATE\"]] = df_stats[[\"hometeam\",\"awayteam\",\"DATE\"]]\ndf_bets.head()"
        },
        {
            "cell_type": "markdown",
            "metadata": {},
            "source": "Now, we'll choose bookmakers' odds most important: **Bet365, Interwetten, Ladbrokes, William Hill**."
        },
        {
            "cell_type": "code",
            "execution_count": 13,
            "metadata": {},
            "outputs": [
                {
                    "data": {
                        "text/html": "<div>\n<style scoped>\n    .dataframe tbody tr th:only-of-type {\n        vertical-align: middle;\n    }\n\n    .dataframe tbody tr th {\n        vertical-align: top;\n    }\n\n    .dataframe thead th {\n        text-align: right;\n    }\n</style>\n<table border=\"1\" class=\"dataframe\">\n  <thead>\n    <tr style=\"text-align: right;\">\n      <th></th>\n      <th>b365h</th>\n      <th>b365d</th>\n      <th>b365a</th>\n      <th>iwh</th>\n      <th>iwd</th>\n      <th>iwa</th>\n      <th>lbh</th>\n      <th>lbd</th>\n      <th>lba</th>\n      <th>whh</th>\n      <th>whd</th>\n      <th>wha</th>\n      <th>hometeam</th>\n      <th>awayteam</th>\n      <th>DATE</th>\n    </tr>\n  </thead>\n  <tbody>\n    <tr>\n      <th>0</th>\n      <td>1.400</td>\n      <td>3.80</td>\n      <td>8.00</td>\n      <td>1.35</td>\n      <td>4.0</td>\n      <td>7.0</td>\n      <td>1.333</td>\n      <td>4.0</td>\n      <td>8.0</td>\n      <td>1.28</td>\n      <td>4.5</td>\n      <td>8.00</td>\n      <td>Arsenal</td>\n      <td>Everton</td>\n      <td>2003-08-16</td>\n    </tr>\n    <tr>\n      <th>1</th>\n      <td>2.375</td>\n      <td>3.25</td>\n      <td>2.75</td>\n      <td>2.50</td>\n      <td>3.0</td>\n      <td>2.5</td>\n      <td>2.200</td>\n      <td>3.2</td>\n      <td>2.8</td>\n      <td>2.20</td>\n      <td>3.2</td>\n      <td>2.80</td>\n      <td>Birmingham</td>\n      <td>Tottenham</td>\n      <td>2003-08-16</td>\n    </tr>\n    <tr>\n      <th>2</th>\n      <td>1.615</td>\n      <td>3.40</td>\n      <td>5.50</td>\n      <td>1.70</td>\n      <td>3.2</td>\n      <td>4.2</td>\n      <td>1.615</td>\n      <td>3.5</td>\n      <td>4.5</td>\n      <td>1.57</td>\n      <td>3.5</td>\n      <td>5.00</td>\n      <td>Blackburn</td>\n      <td>Wolves</td>\n      <td>2003-08-16</td>\n    </tr>\n    <tr>\n      <th>3</th>\n      <td>2.300</td>\n      <td>3.25</td>\n      <td>2.80</td>\n      <td>2.10</td>\n      <td>3.1</td>\n      <td>3.0</td>\n      <td>2.375</td>\n      <td>3.2</td>\n      <td>2.6</td>\n      <td>2.30</td>\n      <td>3.2</td>\n      <td>2.62</td>\n      <td>Fulham</td>\n      <td>Middlesbrough</td>\n      <td>2003-08-16</td>\n    </tr>\n    <tr>\n      <th>4</th>\n      <td>2.500</td>\n      <td>3.20</td>\n      <td>2.60</td>\n      <td>2.20</td>\n      <td>3.1</td>\n      <td>2.8</td>\n      <td>2.500</td>\n      <td>3.2</td>\n      <td>2.5</td>\n      <td>2.30</td>\n      <td>3.2</td>\n      <td>2.62</td>\n      <td>Leicester</td>\n      <td>Southampton</td>\n      <td>2003-08-16</td>\n    </tr>\n  </tbody>\n</table>\n</div>",
                        "text/plain": "   b365h  b365d  b365a   iwh  iwd  iwa    lbh  lbd  lba   whh  whd   wha  \\\n0  1.400   3.80   8.00  1.35  4.0  7.0  1.333  4.0  8.0  1.28  4.5  8.00   \n1  2.375   3.25   2.75  2.50  3.0  2.5  2.200  3.2  2.8  2.20  3.2  2.80   \n2  1.615   3.40   5.50  1.70  3.2  4.2  1.615  3.5  4.5  1.57  3.5  5.00   \n3  2.300   3.25   2.80  2.10  3.1  3.0  2.375  3.2  2.6  2.30  3.2  2.62   \n4  2.500   3.20   2.60  2.20  3.1  2.8  2.500  3.2  2.5  2.30  3.2  2.62   \n\n     hometeam       awayteam        DATE  \n0     Arsenal        Everton  2003-08-16  \n1  Birmingham      Tottenham  2003-08-16  \n2   Blackburn         Wolves  2003-08-16  \n3      Fulham  Middlesbrough  2003-08-16  \n4   Leicester    Southampton  2003-08-16  "
                    },
                    "execution_count": 13,
                    "metadata": {},
                    "output_type": "execute_result"
                }
            ],
            "source": "list_odds = ['b365h', 'b365d','b365a','iwh', 'iwd', 'iwa',\n             'lbh', 'lbd','lba','whh', 'whd','wha']\nlist_variables = list_odds+[\"hometeam\",\"awayteam\",\"DATE\"]\ndf_bets = df_bets[list_variables]\ndf_bets.head()"
        },
        {
            "cell_type": "code",
            "execution_count": 14,
            "metadata": {},
            "outputs": [
                {
                    "name": "stdout",
                    "output_type": "stream",
                    "text": "<class 'pandas.core.frame.DataFrame'>\nRangeIndex: 28133 entries, 0 to 28132\nData columns (total 15 columns):\n #   Column    Non-Null Count  Dtype  \n---  ------    --------------  -----  \n 0   b365h     28085 non-null  float64\n 1   b365d     28085 non-null  float64\n 2   b365a     28085 non-null  float64\n 3   iwh       28049 non-null  float64\n 4   iwd       28049 non-null  float64\n 5   iwa       28049 non-null  float64\n 6   lbh       22698 non-null  float64\n 7   lbd       22698 non-null  float64\n 8   lba       22698 non-null  float64\n 9   whh       27684 non-null  float64\n 10  whd       27684 non-null  float64\n 11  wha       27684 non-null  float64\n 12  hometeam  28133 non-null  object \n 13  awayteam  28133 non-null  object \n 14  DATE      28133 non-null  object \ndtypes: float64(12), object(3)\nmemory usage: 3.2+ MB\n"
                }
            ],
            "source": "df_bets.info()"
        },
        {
            "cell_type": "markdown",
            "metadata": {},
            "source": "![purple-divider](https://user-images.githubusercontent.com/7065401/52071927-c1cd7100-2562-11e9-908a-dde91ba14e59.png)\n\n\n# 2.Data Preparation\n\nIn this step, we edit the dataframe of odds, handle null values, we complete records, correct misspellings, and all tasks necessary to use the data on the models. The process is similar to did in the previous notebook, so I will show you the code quickly."
        },
        {
            "cell_type": "code",
            "execution_count": 15,
            "metadata": {},
            "outputs": [
                {
                    "name": "stdout",
                    "output_type": "stream",
                    "text": "<class 'pandas.core.frame.DataFrame'>\nRangeIndex: 28133 entries, 0 to 28132\nData columns (total 15 columns):\n #   Column    Non-Null Count  Dtype         \n---  ------    --------------  -----         \n 0   b365h     28085 non-null  float64       \n 1   b365d     28085 non-null  float64       \n 2   b365a     28085 non-null  float64       \n 3   iwh       28049 non-null  float64       \n 4   iwd       28049 non-null  float64       \n 5   iwa       28049 non-null  float64       \n 6   lbh       22698 non-null  float64       \n 7   lbd       22698 non-null  float64       \n 8   lba       22698 non-null  float64       \n 9   whh       27684 non-null  float64       \n 10  whd       27684 non-null  float64       \n 11  wha       27684 non-null  float64       \n 12  hometeam  28133 non-null  object        \n 13  awayteam  28133 non-null  object        \n 14  DATE      28133 non-null  datetime64[ns]\ndtypes: datetime64[ns](1), float64(12), object(2)\nmemory usage: 3.2+ MB\n"
                }
            ],
            "source": "#convert format of DATE\ndf_bets['DATE'] = pd.to_datetime(df_bets['DATE'])\ndf_bets.info()"
        },
        {
            "cell_type": "code",
            "execution_count": 16,
            "metadata": {},
            "outputs": [
                {
                    "name": "stdout",
                    "output_type": "stream",
                    "text": "<class 'pandas.core.frame.DataFrame'>\nRangeIndex: 7032 entries, 0 to 7031\nData columns (total 43 columns):\n #   Column                 Non-Null Count  Dtype  \n---  ------                 --------------  -----  \n 0   hometeam               7032 non-null   object \n 1   awayteam               7032 non-null   object \n 2   attendance             7032 non-null   float64\n 3   DATE                   7032 non-null   object \n 4   season                 7032 non-null   int64  \n 5   market value hometeam  7032 non-null   float64\n 6   market value awayteam  7032 non-null   float64\n 7   div                    7032 non-null   object \n 8   fthg                   7032 non-null   float64\n 9   ftag                   7032 non-null   float64\n 10  ftr                    7032 non-null   int64  \n 11  hthg                   7032 non-null   float64\n 12  htag                   7032 non-null   float64\n 13  htr                    7032 non-null   int64  \n 14  hs                     7032 non-null   float64\n 15  AS                     7032 non-null   float64\n 16  hst                    7032 non-null   float64\n 17  ast                    7032 non-null   float64\n 18  hf                     7032 non-null   float64\n 19  af                     7032 non-null   float64\n 20  hc                     7032 non-null   float64\n 21  ac                     7032 non-null   float64\n 22  hy                     7032 non-null   float64\n 23  ay                     7032 non-null   float64\n 24  hr                     7032 non-null   float64\n 25  ar                     7032 non-null   float64\n 26  pyth_hometeam          7032 non-null   float64\n 27  pyth_awayteam          7032 non-null   float64\n 28  aiming_hometeam        7032 non-null   float64\n 29  aiming_awayteam        7032 non-null   float64\n 30  efficacy_hometeam      7032 non-null   float64\n 31  efficacy_awayteam      7032 non-null   float64\n 32  efficiency_hometeam    7032 non-null   float64\n 33  efficiency_awayteam    7032 non-null   float64\n 34  hst_mean_60d           7032 non-null   float64\n 35  hs_mean_60d            7032 non-null   float64\n 36  pyth_hometeam_60d      7032 non-null   float64\n 37  ast_mean_60d           7032 non-null   float64\n 38  AS_mean_60d            7032 non-null   float64\n 39  pyth_awayteam_60d      7032 non-null   float64\n 40  loss_prob              7032 non-null   float64\n 41  draw_prob              7032 non-null   float64\n 42  win_prob               7032 non-null   float64\ndtypes: float64(36), int64(3), object(4)\nmemory usage: 2.3+ MB\n"
                }
            ],
            "source": "#import Dataframe with the predictions\ndf_predictions = pd.read_csv(project.get_file('df_model.csv'))\ndf_predictions.info()"
        },
        {
            "cell_type": "code",
            "execution_count": 17,
            "metadata": {},
            "outputs": [
                {
                    "name": "stderr",
                    "output_type": "stream",
                    "text": "/tmp/wsuser/ipykernel_154/1076089596.py:5: SettingWithCopyWarning: \nA value is trying to be set on a copy of a slice from a DataFrame.\nTry using .loc[row_indexer,col_indexer] = value instead\n\nSee the caveats in the documentation: https://pandas.pydata.org/pandas-docs/stable/user_guide/indexing.html#returning-a-view-versus-a-copy\n  df_probabilities['DATE'] = pd.to_datetime(df_probabilities['DATE'])\n"
                },
                {
                    "data": {
                        "text/html": "<div>\n<style scoped>\n    .dataframe tbody tr th:only-of-type {\n        vertical-align: middle;\n    }\n\n    .dataframe tbody tr th {\n        vertical-align: top;\n    }\n\n    .dataframe thead th {\n        text-align: right;\n    }\n</style>\n<table border=\"1\" class=\"dataframe\">\n  <thead>\n    <tr style=\"text-align: right;\">\n      <th></th>\n      <th>hometeam</th>\n      <th>awayteam</th>\n      <th>DATE</th>\n      <th>ftr</th>\n      <th>loss_prob</th>\n      <th>draw_prob</th>\n      <th>win_prob</th>\n      <th>b365h</th>\n      <th>b365d</th>\n      <th>b365a</th>\n      <th>iwh</th>\n      <th>iwd</th>\n      <th>iwa</th>\n      <th>lbh</th>\n      <th>lbd</th>\n      <th>lba</th>\n      <th>whh</th>\n      <th>whd</th>\n      <th>wha</th>\n    </tr>\n  </thead>\n  <tbody>\n    <tr>\n      <th>0</th>\n      <td>Chelsea</td>\n      <td>Sunderland</td>\n      <td>2005-09-10</td>\n      <td>2</td>\n      <td>0.083820</td>\n      <td>0.151932</td>\n      <td>0.764249</td>\n      <td>1.12</td>\n      <td>7.50</td>\n      <td>19.00</td>\n      <td>1.17</td>\n      <td>5.50</td>\n      <td>11.00</td>\n      <td>1.11</td>\n      <td>7.0</td>\n      <td>13.00</td>\n      <td>1.10</td>\n      <td>6.5</td>\n      <td>17.00</td>\n    </tr>\n    <tr>\n      <th>1</th>\n      <td>Birmingham</td>\n      <td>Charlton</td>\n      <td>2005-09-10</td>\n      <td>0</td>\n      <td>0.370410</td>\n      <td>0.294438</td>\n      <td>0.335152</td>\n      <td>2.37</td>\n      <td>3.25</td>\n      <td>2.87</td>\n      <td>2.30</td>\n      <td>3.00</td>\n      <td>2.70</td>\n      <td>2.25</td>\n      <td>3.2</td>\n      <td>2.75</td>\n      <td>2.25</td>\n      <td>3.2</td>\n      <td>2.75</td>\n    </tr>\n    <tr>\n      <th>2</th>\n      <td>Newcastle</td>\n      <td>Fulham</td>\n      <td>2005-09-10</td>\n      <td>1</td>\n      <td>0.206601</td>\n      <td>0.260919</td>\n      <td>0.532480</td>\n      <td>1.61</td>\n      <td>3.40</td>\n      <td>6.00</td>\n      <td>1.70</td>\n      <td>3.20</td>\n      <td>4.20</td>\n      <td>1.62</td>\n      <td>3.5</td>\n      <td>4.50</td>\n      <td>1.66</td>\n      <td>3.3</td>\n      <td>4.50</td>\n    </tr>\n    <tr>\n      <th>3</th>\n      <td>Aston Villa</td>\n      <td>Tottenham</td>\n      <td>2005-09-17</td>\n      <td>1</td>\n      <td>0.351932</td>\n      <td>0.294839</td>\n      <td>0.353229</td>\n      <td>2.60</td>\n      <td>3.25</td>\n      <td>2.60</td>\n      <td>2.40</td>\n      <td>3.00</td>\n      <td>2.60</td>\n      <td>2.50</td>\n      <td>3.2</td>\n      <td>2.50</td>\n      <td>2.62</td>\n      <td>3.2</td>\n      <td>2.30</td>\n    </tr>\n    <tr>\n      <th>4</th>\n      <td>Sunderland</td>\n      <td>West Brom</td>\n      <td>2005-09-17</td>\n      <td>1</td>\n      <td>0.188220</td>\n      <td>0.250542</td>\n      <td>0.561238</td>\n      <td>2.37</td>\n      <td>3.20</td>\n      <td>2.90</td>\n      <td>2.30</td>\n      <td>3.00</td>\n      <td>2.70</td>\n      <td>2.20</td>\n      <td>3.2</td>\n      <td>2.80</td>\n      <td>2.37</td>\n      <td>3.1</td>\n      <td>2.62</td>\n    </tr>\n    <tr>\n      <th>...</th>\n      <td>...</td>\n      <td>...</td>\n      <td>...</td>\n      <td>...</td>\n      <td>...</td>\n      <td>...</td>\n      <td>...</td>\n      <td>...</td>\n      <td>...</td>\n      <td>...</td>\n      <td>...</td>\n      <td>...</td>\n      <td>...</td>\n      <td>...</td>\n      <td>...</td>\n      <td>...</td>\n      <td>...</td>\n      <td>...</td>\n      <td>...</td>\n    </tr>\n    <tr>\n      <th>7027</th>\n      <td>Lens</td>\n      <td>Monaco</td>\n      <td>2021-05-23</td>\n      <td>1</td>\n      <td>0.485273</td>\n      <td>0.275424</td>\n      <td>0.239303</td>\n      <td>5.25</td>\n      <td>4.33</td>\n      <td>1.57</td>\n      <td>5.00</td>\n      <td>4.40</td>\n      <td>1.60</td>\n      <td>NaN</td>\n      <td>NaN</td>\n      <td>NaN</td>\n      <td>4.80</td>\n      <td>4.0</td>\n      <td>1.65</td>\n    </tr>\n    <tr>\n      <th>7028</th>\n      <td>Brest</td>\n      <td>Paris SG</td>\n      <td>2021-05-23</td>\n      <td>0</td>\n      <td>0.836221</td>\n      <td>0.108881</td>\n      <td>0.054899</td>\n      <td>12.00</td>\n      <td>6.50</td>\n      <td>1.25</td>\n      <td>13.00</td>\n      <td>6.75</td>\n      <td>1.22</td>\n      <td>NaN</td>\n      <td>NaN</td>\n      <td>NaN</td>\n      <td>11.00</td>\n      <td>6.0</td>\n      <td>1.25</td>\n    </tr>\n    <tr>\n      <th>7029</th>\n      <td>Angers</td>\n      <td>Lille</td>\n      <td>2021-05-23</td>\n      <td>0</td>\n      <td>0.456977</td>\n      <td>0.282435</td>\n      <td>0.260588</td>\n      <td>10.00</td>\n      <td>4.75</td>\n      <td>1.33</td>\n      <td>11.00</td>\n      <td>4.90</td>\n      <td>1.33</td>\n      <td>NaN</td>\n      <td>NaN</td>\n      <td>NaN</td>\n      <td>9.50</td>\n      <td>4.6</td>\n      <td>1.35</td>\n    </tr>\n    <tr>\n      <th>7030</th>\n      <td>Aston Villa</td>\n      <td>Chelsea</td>\n      <td>2021-05-23</td>\n      <td>2</td>\n      <td>0.814378</td>\n      <td>0.122302</td>\n      <td>0.063320</td>\n      <td>6.50</td>\n      <td>4.60</td>\n      <td>1.45</td>\n      <td>6.75</td>\n      <td>4.60</td>\n      <td>1.45</td>\n      <td>NaN</td>\n      <td>NaN</td>\n      <td>NaN</td>\n      <td>7.00</td>\n      <td>4.4</td>\n      <td>1.47</td>\n    </tr>\n    <tr>\n      <th>7031</th>\n      <td>Reims</td>\n      <td>Bordeaux</td>\n      <td>2021-05-23</td>\n      <td>0</td>\n      <td>0.357016</td>\n      <td>0.294814</td>\n      <td>0.348170</td>\n      <td>2.55</td>\n      <td>2.87</td>\n      <td>3.25</td>\n      <td>2.55</td>\n      <td>2.90</td>\n      <td>3.20</td>\n      <td>NaN</td>\n      <td>NaN</td>\n      <td>NaN</td>\n      <td>2.50</td>\n      <td>2.9</td>\n      <td>3.20</td>\n    </tr>\n  </tbody>\n</table>\n<p>7032 rows \u00d7 19 columns</p>\n</div>",
                        "text/plain": "         hometeam    awayteam       DATE  ftr  loss_prob  draw_prob  win_prob  \\\n0         Chelsea  Sunderland 2005-09-10    2   0.083820   0.151932  0.764249   \n1      Birmingham    Charlton 2005-09-10    0   0.370410   0.294438  0.335152   \n2       Newcastle      Fulham 2005-09-10    1   0.206601   0.260919  0.532480   \n3     Aston Villa   Tottenham 2005-09-17    1   0.351932   0.294839  0.353229   \n4      Sunderland   West Brom 2005-09-17    1   0.188220   0.250542  0.561238   \n...           ...         ...        ...  ...        ...        ...       ...   \n7027         Lens      Monaco 2021-05-23    1   0.485273   0.275424  0.239303   \n7028        Brest    Paris SG 2021-05-23    0   0.836221   0.108881  0.054899   \n7029       Angers       Lille 2021-05-23    0   0.456977   0.282435  0.260588   \n7030  Aston Villa     Chelsea 2021-05-23    2   0.814378   0.122302  0.063320   \n7031        Reims    Bordeaux 2021-05-23    0   0.357016   0.294814  0.348170   \n\n      b365h  b365d  b365a    iwh   iwd    iwa   lbh  lbd    lba    whh  whd  \\\n0      1.12   7.50  19.00   1.17  5.50  11.00  1.11  7.0  13.00   1.10  6.5   \n1      2.37   3.25   2.87   2.30  3.00   2.70  2.25  3.2   2.75   2.25  3.2   \n2      1.61   3.40   6.00   1.70  3.20   4.20  1.62  3.5   4.50   1.66  3.3   \n3      2.60   3.25   2.60   2.40  3.00   2.60  2.50  3.2   2.50   2.62  3.2   \n4      2.37   3.20   2.90   2.30  3.00   2.70  2.20  3.2   2.80   2.37  3.1   \n...     ...    ...    ...    ...   ...    ...   ...  ...    ...    ...  ...   \n7027   5.25   4.33   1.57   5.00  4.40   1.60   NaN  NaN    NaN   4.80  4.0   \n7028  12.00   6.50   1.25  13.00  6.75   1.22   NaN  NaN    NaN  11.00  6.0   \n7029  10.00   4.75   1.33  11.00  4.90   1.33   NaN  NaN    NaN   9.50  4.6   \n7030   6.50   4.60   1.45   6.75  4.60   1.45   NaN  NaN    NaN   7.00  4.4   \n7031   2.55   2.87   3.25   2.55  2.90   3.20   NaN  NaN    NaN   2.50  2.9   \n\n        wha  \n0     17.00  \n1      2.75  \n2      4.50  \n3      2.30  \n4      2.62  \n...     ...  \n7027   1.65  \n7028   1.25  \n7029   1.35  \n7030   1.47  \n7031   3.20  \n\n[7032 rows x 19 columns]"
                    },
                    "execution_count": 17,
                    "metadata": {},
                    "output_type": "execute_result"
                }
            ],
            "source": "#Create the dataframe with the predictions vs bookmakers' odds\n\ndf_probabilities = df_predictions[[\"hometeam\", \"awayteam\", \"DATE\", \"ftr\", \n                                  \"loss_prob\", \"draw_prob\", \"win_prob\"]]\ndf_probabilities['DATE'] = pd.to_datetime(df_probabilities['DATE'])\ndf_prob_odds = df_probabilities.merge(df_bets, on=['hometeam','awayteam','DATE'], how='inner')\ndf_prob_odds"
        },
        {
            "cell_type": "code",
            "execution_count": 18,
            "metadata": {},
            "outputs": [
                {
                    "name": "stdout",
                    "output_type": "stream",
                    "text": "<class 'pandas.core.frame.DataFrame'>\nInt64Index: 7032 entries, 0 to 7031\nData columns (total 19 columns):\n #   Column     Non-Null Count  Dtype         \n---  ------     --------------  -----         \n 0   hometeam   7032 non-null   object        \n 1   awayteam   7032 non-null   object        \n 2   DATE       7032 non-null   datetime64[ns]\n 3   ftr        7032 non-null   int64         \n 4   loss_prob  7032 non-null   float64       \n 5   draw_prob  7032 non-null   float64       \n 6   win_prob   7032 non-null   float64       \n 7   b365h      7032 non-null   float64       \n 8   b365d      7032 non-null   float64       \n 9   b365a      7032 non-null   float64       \n 10  iwh        7024 non-null   float64       \n 11  iwd        7024 non-null   float64       \n 12  iwa        7024 non-null   float64       \n 13  lbh        5813 non-null   float64       \n 14  lbd        5813 non-null   float64       \n 15  lba        5813 non-null   float64       \n 16  whh        6969 non-null   float64       \n 17  whd        6969 non-null   float64       \n 18  wha        6969 non-null   float64       \ndtypes: datetime64[ns](1), float64(15), int64(1), object(2)\nmemory usage: 1.1+ MB\n"
                }
            ],
            "source": "df_prob_odds.info()"
        },
        {
            "cell_type": "markdown",
            "metadata": {},
            "source": "We can see that only Bookmaker Bet365 has all the records of the games that we will use to compare. However, we'll use the data of the others bookmaker in our analysis."
        },
        {
            "cell_type": "code",
            "execution_count": 19,
            "metadata": {},
            "outputs": [],
            "source": "#we create  the sub dataframes\ndf_bet365 = df_prob_odds[[\"loss_prob\", \"draw_prob\", \"win_prob\",\n                          \"b365h\", \"b365d\", \"b365a\", \"ftr\"]].copy()\n\ndf_iw = df_prob_odds[[\"loss_prob\", \"draw_prob\", \"win_prob\",\n                          \"iwh\", \"iwd\", \"iwa\", \"ftr\"]].copy().dropna()\n\ndf_lb = df_prob_odds[[\"loss_prob\", \"draw_prob\", \"win_prob\",\n                          \"lbh\", \"lbd\", \"lba\", \"ftr\"]].copy().dropna()\n\ndf_wh = df_prob_odds[[\"loss_prob\", \"draw_prob\", \"win_prob\",\n                          \"whh\", \"whd\", \"wha\", \"ftr\"]].copy().dropna()"
        },
        {
            "cell_type": "markdown",
            "metadata": {},
            "source": "Now, we will transform the odds to probabilities. For this, is necessary to consider the overround (the sum of bookmakers' probabilities overcome 100%)."
        },
        {
            "cell_type": "code",
            "execution_count": 20,
            "metadata": {},
            "outputs": [],
            "source": "df_bet365[\"win_prob_bet\"] = (1/df_bet365[\"b365h\"])/(1/(df_bet365[\"b365h\"])+1/(df_bet365[\"b365d\"])+1/(df_bet365[\"b365a\"]))\ndf_bet365[\"draw_prob_bet\"] = (1/df_bet365[\"b365d\"])/(1/(df_bet365[\"b365h\"])+1/(df_bet365[\"b365d\"])+1/(df_bet365[\"b365a\"]))\ndf_bet365[\"loss_prob_bet\"] = (1/df_bet365[\"b365a\"])/(1/(df_bet365[\"b365h\"])+1/(df_bet365[\"b365d\"])+1/(df_bet365[\"b365a\"]))\n\ndf_iw[\"win_prob_bet\"] = (1/df_iw[\"iwh\"])/(1/(df_iw[\"iwh\"])+1/(df_iw[\"iwd\"])+1/(df_iw[\"iwa\"]))\ndf_iw[\"draw_prob_bet\"] = (1/df_iw[\"iwd\"])/(1/(df_iw[\"iwh\"])+1/(df_iw[\"iwd\"])+1/(df_iw[\"iwa\"]))\ndf_iw[\"loss_prob_bet\"] = (1/df_iw[\"iwa\"])/(1/(df_iw[\"iwh\"])+1/(df_iw[\"iwd\"])+1/(df_iw[\"iwa\"]))\n\ndf_lb[\"win_prob_bet\"] = (1/df_lb[\"lbh\"])/(1/(df_lb[\"lbh\"])+1/(df_lb[\"lbd\"])+1/(df_lb[\"lba\"]))\ndf_lb[\"draw_prob_bet\"] = (1/df_lb[\"lbd\"])/(1/(df_lb[\"lbh\"])+1/(df_lb[\"lbd\"])+1/(df_lb[\"lba\"]))\ndf_lb[\"loss_prob_bet\"] = (1/df_lb[\"lba\"])/(1/(df_lb[\"lbh\"])+1/(df_lb[\"lbd\"])+1/(df_lb[\"lba\"]))\n\ndf_wh[\"win_prob_bet\"] = (1/df_wh[\"whh\"])/(1/(df_wh[\"whh\"])+1/(df_wh[\"whd\"])+1/(df_wh[\"wha\"]))\ndf_wh[\"draw_prob_bet\"] = (1/df_wh[\"whd\"])/(1/(df_wh[\"whh\"])+1/(df_wh[\"whd\"])+1/(df_wh[\"wha\"]))\ndf_wh[\"loss_prob_bet\"] = (1/df_wh[\"wha\"])/(1/(df_wh[\"whh\"])+1/(df_wh[\"whd\"])+1/(df_wh[\"wha\"]))"
        },
        {
            "cell_type": "code",
            "execution_count": 21,
            "metadata": {},
            "outputs": [
                {
                    "data": {
                        "text/html": "<div>\n<style scoped>\n    .dataframe tbody tr th:only-of-type {\n        vertical-align: middle;\n    }\n\n    .dataframe tbody tr th {\n        vertical-align: top;\n    }\n\n    .dataframe thead th {\n        text-align: right;\n    }\n</style>\n<table border=\"1\" class=\"dataframe\">\n  <thead>\n    <tr style=\"text-align: right;\">\n      <th></th>\n      <th>loss_prob</th>\n      <th>draw_prob</th>\n      <th>win_prob</th>\n      <th>b365h</th>\n      <th>b365d</th>\n      <th>b365a</th>\n      <th>ftr</th>\n      <th>win_prob_bet</th>\n      <th>draw_prob_bet</th>\n      <th>loss_prob_bet</th>\n    </tr>\n  </thead>\n  <tbody>\n    <tr>\n      <th>0</th>\n      <td>0.083820</td>\n      <td>0.151932</td>\n      <td>0.764249</td>\n      <td>1.12</td>\n      <td>7.50</td>\n      <td>19.00</td>\n      <td>2</td>\n      <td>0.827622</td>\n      <td>0.123592</td>\n      <td>0.048786</td>\n    </tr>\n    <tr>\n      <th>1</th>\n      <td>0.370410</td>\n      <td>0.294438</td>\n      <td>0.335152</td>\n      <td>2.37</td>\n      <td>3.25</td>\n      <td>2.87</td>\n      <td>0</td>\n      <td>0.391387</td>\n      <td>0.285412</td>\n      <td>0.323201</td>\n    </tr>\n    <tr>\n      <th>2</th>\n      <td>0.206601</td>\n      <td>0.260919</td>\n      <td>0.532480</td>\n      <td>1.61</td>\n      <td>3.40</td>\n      <td>6.00</td>\n      <td>1</td>\n      <td>0.574098</td>\n      <td>0.271852</td>\n      <td>0.154050</td>\n    </tr>\n    <tr>\n      <th>3</th>\n      <td>0.351932</td>\n      <td>0.294839</td>\n      <td>0.353229</td>\n      <td>2.60</td>\n      <td>3.25</td>\n      <td>2.60</td>\n      <td>1</td>\n      <td>0.357143</td>\n      <td>0.285714</td>\n      <td>0.357143</td>\n    </tr>\n    <tr>\n      <th>4</th>\n      <td>0.188220</td>\n      <td>0.250542</td>\n      <td>0.561238</td>\n      <td>2.37</td>\n      <td>3.20</td>\n      <td>2.90</td>\n      <td>1</td>\n      <td>0.390951</td>\n      <td>0.289548</td>\n      <td>0.319501</td>\n    </tr>\n  </tbody>\n</table>\n</div>",
                        "text/plain": "   loss_prob  draw_prob  win_prob  b365h  b365d  b365a  ftr  win_prob_bet  \\\n0   0.083820   0.151932  0.764249   1.12   7.50  19.00    2      0.827622   \n1   0.370410   0.294438  0.335152   2.37   3.25   2.87    0      0.391387   \n2   0.206601   0.260919  0.532480   1.61   3.40   6.00    1      0.574098   \n3   0.351932   0.294839  0.353229   2.60   3.25   2.60    1      0.357143   \n4   0.188220   0.250542  0.561238   2.37   3.20   2.90    1      0.390951   \n\n   draw_prob_bet  loss_prob_bet  \n0       0.123592       0.048786  \n1       0.285412       0.323201  \n2       0.271852       0.154050  \n3       0.285714       0.357143  \n4       0.289548       0.319501  "
                    },
                    "execution_count": 21,
                    "metadata": {},
                    "output_type": "execute_result"
                }
            ],
            "source": "df_bet365.head()"
        },
        {
            "cell_type": "markdown",
            "metadata": {},
            "source": "![purple-divider](https://user-images.githubusercontent.com/7065401/52071927-c1cd7100-2562-11e9-908a-dde91ba14e59.png)\n\n\n# 3.Brier Score\n\nThe Brier Score, first proposed in the context of weather forecasting by the statistician Glenn Brier in 1950, gives us a precise measure of the degree of accuracy of the predictions. For each possible outcome and forecast, the Brier Score calculates the squared value of the difference, which lies between 0 (100% accurate) and 1 (100% inaccurate).\n\nWith three outcomes the Brier Score for each row is: \\begin{align*} (o_1-p_1)^2 + (o_2-p_2)^2 + (o_3-p_3)^2\\end{align*}\n\nWhere ($o_{i}$) refers to the outcome, outcome 1 is that the team wins ($o_{1}=1$), outcome 2 is that the team loses ($o_{2}=0$), outcome 3 is that the team draw ($o_{3}=0$)  and $p_{i}$ (i = 0,1,2) refers to the forecast probability of each outcome. \n\nThe Brier Score for the forecast model is then just the mean (1/N) of all the rows. \n\nLower Brier Scores imply a more accurate forecast."
        },
        {
            "cell_type": "markdown",
            "metadata": {},
            "source": "Now, we'll calculate the Brier Score to each dataframe, and compare their Brier score."
        },
        {
            "cell_type": "code",
            "execution_count": 22,
            "metadata": {},
            "outputs": [],
            "source": "import numpy as np\ndf_bet365[\"brier_pred\"] = np.where(df_bet365[\"ftr\"]==2, (1-df_bet365[\"win_prob\"])**2 + (0-df_bet365[\"draw_prob\"])**2 + (0-df_bet365[\"loss_prob\"])**2,\n                                  np.where(df_bet365[\"ftr\"]==1, (0-df_bet365[\"win_prob\"])**2 + (1-df_bet365[\"draw_prob\"])**2 + (0-df_bet365[\"loss_prob\"])**2,\n                                          (0-df_bet365[\"win_prob\"])**2 + (0-df_bet365[\"draw_prob\"])**2 + (1-df_bet365[\"loss_prob\"])**2))\n\ndf_bet365[\"brier_bm\"] = np.where(df_bet365[\"ftr\"]==2, (1-df_bet365[\"win_prob_bet\"])**2 + (0-df_bet365[\"draw_prob_bet\"])**2 + (0-df_bet365[\"loss_prob_bet\"])**2,\n                                  np.where(df_bet365[\"ftr\"]==1, (0-df_bet365[\"win_prob_bet\"])**2 + (1-df_bet365[\"draw_prob_bet\"])**2 + (0-df_bet365[\"loss_prob_bet\"])**2,\n                                          (0-df_bet365[\"win_prob_bet\"])**2 + (0-df_bet365[\"draw_prob_bet\"])**2 + (1-df_bet365[\"loss_prob_bet\"])**2))\n\n\ndf_iw[\"brier_pred\"] = np.where(df_iw[\"ftr\"]==2, (1-df_iw[\"win_prob\"])**2 + (0-df_iw[\"draw_prob\"])**2 + (0-df_iw[\"loss_prob\"])**2,\n                                  np.where(df_iw[\"ftr\"]==1, (0-df_iw[\"win_prob\"])**2 + (1-df_iw[\"draw_prob\"])**2 + (0-df_iw[\"loss_prob\"])**2,\n                                          (0-df_iw[\"win_prob\"])**2 + (0-df_iw[\"draw_prob\"])**2 + (1-df_iw[\"loss_prob\"])**2))\n\ndf_iw[\"brier_bm\"] = np.where(df_iw[\"ftr\"]==2, (1-df_iw[\"win_prob_bet\"])**2 + (0-df_iw[\"draw_prob_bet\"])**2 + (0-df_iw[\"loss_prob_bet\"])**2,\n                                  np.where(df_iw[\"ftr\"]==1, (0-df_iw[\"win_prob_bet\"])**2 + (1-df_iw[\"draw_prob_bet\"])**2 + (0-df_iw[\"loss_prob_bet\"])**2,\n                                          (0-df_iw[\"win_prob_bet\"])**2 + (0-df_iw[\"draw_prob_bet\"])**2 + (1-df_iw[\"loss_prob_bet\"])**2))\n\n\ndf_lb[\"brier_pred\"] = np.where(df_lb[\"ftr\"]==2, (1-df_lb[\"win_prob\"])**2 + (0-df_lb[\"draw_prob\"])**2 + (0-df_lb[\"loss_prob\"])**2,\n                                  np.where(df_lb[\"ftr\"]==1, (0-df_lb[\"win_prob\"])**2 + (1-df_lb[\"draw_prob\"])**2 + (0-df_lb[\"loss_prob\"])**2,\n                                          (0-df_lb[\"win_prob\"])**2 + (0-df_lb[\"draw_prob\"])**2 + (1-df_lb[\"loss_prob\"])**2))\n\ndf_lb[\"brier_bm\"] = np.where(df_lb[\"ftr\"]==2, (1-df_lb[\"win_prob_bet\"])**2 + (0-df_lb[\"draw_prob_bet\"])**2 + (0-df_lb[\"loss_prob_bet\"])**2,\n                                  np.where(df_lb[\"ftr\"]==1, (0-df_lb[\"win_prob_bet\"])**2 + (1-df_lb[\"draw_prob_bet\"])**2 + (0-df_lb[\"loss_prob_bet\"])**2,\n                                          (0-df_lb[\"win_prob_bet\"])**2 + (0-df_lb[\"draw_prob_bet\"])**2 + (1-df_lb[\"loss_prob_bet\"])**2))\n\n\ndf_wh[\"brier_pred\"] = np.where(df_wh[\"ftr\"]==2, (1-df_wh[\"win_prob\"])**2 + (0-df_wh[\"draw_prob\"])**2 + (0-df_wh[\"loss_prob\"])**2,\n                                  np.where(df_wh[\"ftr\"]==1, (0-df_wh[\"win_prob\"])**2 + (1-df_wh[\"draw_prob\"])**2 + (0-df_wh[\"loss_prob\"])**2,\n                                          (0-df_wh[\"win_prob\"])**2 + (0-df_wh[\"draw_prob\"])**2 + (1-df_wh[\"loss_prob\"])**2))\n\ndf_wh[\"brier_bm\"] = np.where(df_wh[\"ftr\"]==2, (1-df_wh[\"win_prob_bet\"])**2 + (0-df_wh[\"draw_prob_bet\"])**2 + (0-df_wh[\"loss_prob_bet\"])**2,\n                                  np.where(df_wh[\"ftr\"]==1, (0-df_wh[\"win_prob_bet\"])**2 + (1-df_wh[\"draw_prob_bet\"])**2 + (0-df_wh[\"loss_prob_bet\"])**2,\n                                          (0-df_wh[\"win_prob_bet\"])**2 + (0-df_wh[\"draw_prob_bet\"])**2 + (1-df_wh[\"loss_prob_bet\"])**2))"
        },
        {
            "cell_type": "code",
            "execution_count": 25,
            "metadata": {},
            "outputs": [],
            "source": "df_results = pd.DataFrame({\"Bookmaker\":[\"Bet365\",\"Interwetten\",\"Ladbrokes\",\"William Hill\"],\n                          \"Our Model' BS\":[df_bet365['brier_pred'].mean(),df_iw['brier_pred'].mean(),\n                                              df_lb['brier_pred'].mean(),df_wh['brier_pred'].mean()],\n                          \"Bookmakers' BS\":[df_bet365['brier_bm'].mean(),df_iw['brier_bm'].mean(),\n                                              df_lb['brier_bm'].mean(),df_wh['brier_bm'].mean()]})"
        },
        {
            "cell_type": "code",
            "execution_count": 26,
            "metadata": {},
            "outputs": [
                {
                    "data": {
                        "text/html": "<div>\n<style scoped>\n    .dataframe tbody tr th:only-of-type {\n        vertical-align: middle;\n    }\n\n    .dataframe tbody tr th {\n        vertical-align: top;\n    }\n\n    .dataframe thead th {\n        text-align: right;\n    }\n</style>\n<table border=\"1\" class=\"dataframe\">\n  <thead>\n    <tr style=\"text-align: right;\">\n      <th></th>\n      <th>Bookmaker</th>\n      <th>Our Model' BS</th>\n      <th>Bookmakers' BS</th>\n    </tr>\n  </thead>\n  <tbody>\n    <tr>\n      <th>0</th>\n      <td>Bet365</td>\n      <td>0.582784</td>\n      <td>0.567940</td>\n    </tr>\n    <tr>\n      <th>1</th>\n      <td>Interwetten</td>\n      <td>0.582709</td>\n      <td>0.569507</td>\n    </tr>\n    <tr>\n      <th>2</th>\n      <td>Ladbrokes</td>\n      <td>0.576612</td>\n      <td>0.563458</td>\n    </tr>\n    <tr>\n      <th>3</th>\n      <td>William Hill</td>\n      <td>0.582831</td>\n      <td>0.569273</td>\n    </tr>\n  </tbody>\n</table>\n</div>",
                        "text/plain": "      Bookmaker  Our Model' BS  Bookmakers' BS\n0        Bet365       0.582784        0.567940\n1   Interwetten       0.582709        0.569507\n2     Ladbrokes       0.576612        0.563458\n3  William Hill       0.582831        0.569273"
                    },
                    "execution_count": 26,
                    "metadata": {},
                    "output_type": "execute_result"
                }
            ],
            "source": "df_results"
        },
        {
            "cell_type": "markdown",
            "metadata": {},
            "source": "![purple-divider](https://user-images.githubusercontent.com/7065401/52071927-c1cd7100-2562-11e9-908a-dde91ba14e59.png)\n\n\n# 4.Conclusions\n\n\n1. The Bookmakers have predictions very similar.  \n  \n2. Our model is less accurate than the Bookmakers' predictions.  \n  \n3. Our model and the Bookmakers have low accuracy.\n\n**Try yourself:** It's possible that other models developed previously have better accuracy. You can try it!"
        },
        {
            "cell_type": "code",
            "execution_count": null,
            "metadata": {},
            "outputs": [],
            "source": ""
        }
    ],
    "metadata": {
        "kernelspec": {
            "display_name": "Python 3.8",
            "language": "python",
            "name": "python3"
        },
        "language_info": {
            "codemirror_mode": {
                "name": "ipython",
                "version": 3
            },
            "file_extension": ".py",
            "mimetype": "text/x-python",
            "name": "python",
            "nbconvert_exporter": "python",
            "pygments_lexer": "ipython3",
            "version": "3.8.12"
        }
    },
    "nbformat": 4,
    "nbformat_minor": 4
}