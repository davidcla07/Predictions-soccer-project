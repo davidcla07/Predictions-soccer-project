{
    "cells": [
        {
            "cell_type": "markdown",
            "metadata": {},
            "source": "# WEB SCRAPING IN TRANSFERMARK   \n\n<br>\n<br>\n<center>\n    <img src=\"http://www.insideworldfootball.com/app/uploads/2013/11/money_and_football.jpeg\" width=\"400\" alt=\"soccer.logo\"  />\n</center>\n<br>\n\n<div style=\"text-align: right\"> <b>By David Clavijo</b> </div>  \n\n\n# About Notebook\n\nIn this notebook, I get records of market values for the football teams using the beautifulsoup library to extract the data on the transfermark website (**web sites:https://www.transfermarkt.com/premier-league/startseite/wettbewerb/GB1/plus/?saison_id=2020**).\nOn the website of transfermarkt, it shows the teams with their values market by season and league (In this notebook I chose the English Premier League).  \nThe data that we search are:\n\n*   Team\n*   market value of the team (Euros)\n"
        },
        {
            "cell_type": "markdown",
            "metadata": {},
            "source": "![purple-divider](https://user-images.githubusercontent.com/7065401/52071927-c1cd7100-2562-11e9-908a-dde91ba14e59.png) "
        },
        {
            "cell_type": "markdown",
            "metadata": {},
            "source": "# Data Collected\n\nYou can notice that website shows the data by season using the year that we want to see. Therefore, if we want to get the data in many seasons, we must explore **n** amount of pages on the website. For this, we change the **year** in the link to navigate:    \n\nhttps://www.transfermarkt.com/premier-league/startseite/wettbewerb/GB1/plus/?saison_id= **change it**\n "
        },
        {
            "cell_type": "markdown",
            "metadata": {},
            "source": "# Retrieve the records  \n  \n## List of the years\n\nThe first step to get the records of all teams in each season is to create the list of the years that we want to explore. To the english premier league the website transfermarkt has records since the season 2005-2006\nThe next code create the list of the years:"
        },
        {
            "cell_type": "code",
            "execution_count": 1,
            "metadata": {},
            "outputs": [],
            "source": "import pandas as pd\n\nlist_years=[str(year) for year in range(2005,2022)] #list of the years of the seasons\n"
        },
        {
            "cell_type": "markdown",
            "metadata": {},
            "source": "## Web Scraping\n\nIn the next code, I'll use beautifulsoup to retrieve the data. The code navigates in each link for the years of the list and then retrieves the records saving them in a dictionary. After, the dictionary is converted to Dataframe for export to a file in CSV format.\n\nYou can notice that in the code, I use `try and except` to avoid errors during the execution of a call. The mean error that can occur is connection server failure. Using this method is possible to lose records that you can need, for this, I print the URL in each execution."
        },
        {
            "cell_type": "code",
            "execution_count": 2,
            "metadata": {},
            "outputs": [
                {
                    "name": "stdout",
                    "output_type": "stream",
                    "text": "https://www.transfermarkt.com/premier-league/startseite/wettbewerb/GB1/plus/?saison_id=2005\nhttps://www.transfermarkt.com/premier-league/startseite/wettbewerb/GB1/plus/?saison_id=2006\nhttps://www.transfermarkt.com/premier-league/startseite/wettbewerb/GB1/plus/?saison_id=2007\nhttps://www.transfermarkt.com/premier-league/startseite/wettbewerb/GB1/plus/?saison_id=2008\nhttps://www.transfermarkt.com/premier-league/startseite/wettbewerb/GB1/plus/?saison_id=2009\nhttps://www.transfermarkt.com/premier-league/startseite/wettbewerb/GB1/plus/?saison_id=2010\nhttps://www.transfermarkt.com/premier-league/startseite/wettbewerb/GB1/plus/?saison_id=2011\nhttps://www.transfermarkt.com/premier-league/startseite/wettbewerb/GB1/plus/?saison_id=2012\nhttps://www.transfermarkt.com/premier-league/startseite/wettbewerb/GB1/plus/?saison_id=2013\nhttps://www.transfermarkt.com/premier-league/startseite/wettbewerb/GB1/plus/?saison_id=2014\nhttps://www.transfermarkt.com/premier-league/startseite/wettbewerb/GB1/plus/?saison_id=2015\nhttps://www.transfermarkt.com/premier-league/startseite/wettbewerb/GB1/plus/?saison_id=2016\nhttps://www.transfermarkt.com/premier-league/startseite/wettbewerb/GB1/plus/?saison_id=2017\nhttps://www.transfermarkt.com/premier-league/startseite/wettbewerb/GB1/plus/?saison_id=2018\nhttps://www.transfermarkt.com/premier-league/startseite/wettbewerb/GB1/plus/?saison_id=2019\nhttps://www.transfermarkt.com/premier-league/startseite/wettbewerb/GB1/plus/?saison_id=2020\nhttps://www.transfermarkt.com/premier-league/startseite/wettbewerb/GB1/plus/?saison_id=2021\n"
                }
            ],
            "source": "import urllib.request, urllib.parse, urllib.error\nfrom bs4 import BeautifulSoup\nfrom urllib.request import Request, urlopen \n    \n#list empty to create records\nlist_team=[]\nlist_value_market=[]\nlist_season=[]\n\n\nfor i in list_years:\n    try:\n        url = \"https://www.transfermarkt.com/premier-league/startseite/wettbewerb/GB1/plus/?saison_id=\"+str(i)\n        print(url)\n        #read web site html and transform it to BeautifulSoup object       \n        req = Request(url, headers={'User-Agent': 'Mozilla/5.0'})  #with the headers avoid errors during the access to transfermarkt\n        html = urlopen(req)\n        soup=BeautifulSoup(html,'html.parser')\n        data=soup.find_all('table',class_=\"items\") #find table of the records\n        table=data[0].tbody #get the data of the table\n       \n        for rows in table.find_all('tr'): #parse the rows    \n            cont=0\n            list_season.append(i)\n            for col in rows.find_all('td'): #parse the columns in the rows\n                cont+=1\n                if cont==3:                 \n                    team=str(col.a.get_text())\n                    list_team.append(team)\n                elif cont==8:\n                    value_market=str(col.a.get_text())\n                    list_value_market.append(value_market)\n    except:\n        continue \n        \ndictionary_data={'season':list_season,'team':list_team,'Value market \u20ac':list_value_market}\ndataframe=pd.DataFrame(data=dictionary_data) #transformt the dictionary to Dataframe\ndataframe.to_csv(\"E:/Documentos/Project Forecasting soccer/value_market_epl.csv\",index=False) #export the dataframe to csv"
        },
        {
            "cell_type": "code",
            "execution_count": 3,
            "metadata": {},
            "outputs": [
                {
                    "data": {
                        "text/html": "<div>\n<style scoped>\n    .dataframe tbody tr th:only-of-type {\n        vertical-align: middle;\n    }\n\n    .dataframe tbody tr th {\n        vertical-align: top;\n    }\n\n    .dataframe thead th {\n        text-align: right;\n    }\n</style>\n<table border=\"1\" class=\"dataframe\">\n  <thead>\n    <tr style=\"text-align: right;\">\n      <th></th>\n      <th>season</th>\n      <th>team</th>\n      <th>Value market \u20ac</th>\n    </tr>\n  </thead>\n  <tbody>\n    <tr>\n      <th>0</th>\n      <td>2005</td>\n      <td>Chelsea</td>\n      <td>\u20ac352.18m</td>\n    </tr>\n    <tr>\n      <th>1</th>\n      <td>2005</td>\n      <td>Man Utd</td>\n      <td>\u20ac286.43m</td>\n    </tr>\n    <tr>\n      <th>2</th>\n      <td>2005</td>\n      <td>Arsenal</td>\n      <td>\u20ac217.95m</td>\n    </tr>\n    <tr>\n      <th>3</th>\n      <td>2005</td>\n      <td>Liverpool</td>\n      <td>\u20ac187.40m</td>\n    </tr>\n    <tr>\n      <th>4</th>\n      <td>2005</td>\n      <td>Spurs</td>\n      <td>\u20ac145.50m</td>\n    </tr>\n    <tr>\n      <th>5</th>\n      <td>2005</td>\n      <td>Newcastle</td>\n      <td>\u20ac141.20m</td>\n    </tr>\n    <tr>\n      <th>6</th>\n      <td>2005</td>\n      <td>Everton</td>\n      <td>\u20ac109.78m</td>\n    </tr>\n    <tr>\n      <th>7</th>\n      <td>2005</td>\n      <td>Aston Villa</td>\n      <td>\u20ac100.83m</td>\n    </tr>\n    <tr>\n      <th>8</th>\n      <td>2005</td>\n      <td>Birmingham</td>\n      <td>\u20ac95.38m</td>\n    </tr>\n    <tr>\n      <th>9</th>\n      <td>2005</td>\n      <td>Middlesbrough</td>\n      <td>\u20ac94.63m</td>\n    </tr>\n    <tr>\n      <th>10</th>\n      <td>2005</td>\n      <td>Portsmouth</td>\n      <td>\u20ac90.83m</td>\n    </tr>\n    <tr>\n      <th>11</th>\n      <td>2005</td>\n      <td>Man City</td>\n      <td>\u20ac76.40m</td>\n    </tr>\n    <tr>\n      <th>12</th>\n      <td>2005</td>\n      <td>Charlton</td>\n      <td>\u20ac74.98m</td>\n    </tr>\n    <tr>\n      <th>13</th>\n      <td>2005</td>\n      <td>Fulham</td>\n      <td>\u20ac70.90m</td>\n    </tr>\n    <tr>\n      <th>14</th>\n      <td>2005</td>\n      <td>Blackburn</td>\n      <td>\u20ac70.70m</td>\n    </tr>\n    <tr>\n      <th>15</th>\n      <td>2005</td>\n      <td>Bolton</td>\n      <td>\u20ac65.90m</td>\n    </tr>\n    <tr>\n      <th>16</th>\n      <td>2005</td>\n      <td>West Brom</td>\n      <td>\u20ac55.05m</td>\n    </tr>\n    <tr>\n      <th>17</th>\n      <td>2005</td>\n      <td>West Ham</td>\n      <td>\u20ac42.40m</td>\n    </tr>\n    <tr>\n      <th>18</th>\n      <td>2005</td>\n      <td>Wigan</td>\n      <td>\u20ac36.20m</td>\n    </tr>\n    <tr>\n      <th>19</th>\n      <td>2005</td>\n      <td>Sunderland</td>\n      <td>\u20ac32.55m</td>\n    </tr>\n  </tbody>\n</table>\n</div>",
                        "text/plain": "   season           team Value market \u20ac\n0    2005        Chelsea       \u20ac352.18m\n1    2005        Man Utd       \u20ac286.43m\n2    2005        Arsenal       \u20ac217.95m\n3    2005      Liverpool       \u20ac187.40m\n4    2005          Spurs       \u20ac145.50m\n5    2005      Newcastle       \u20ac141.20m\n6    2005        Everton       \u20ac109.78m\n7    2005    Aston Villa       \u20ac100.83m\n8    2005     Birmingham        \u20ac95.38m\n9    2005  Middlesbrough        \u20ac94.63m\n10   2005     Portsmouth        \u20ac90.83m\n11   2005       Man City        \u20ac76.40m\n12   2005       Charlton        \u20ac74.98m\n13   2005         Fulham        \u20ac70.90m\n14   2005      Blackburn        \u20ac70.70m\n15   2005         Bolton        \u20ac65.90m\n16   2005      West Brom        \u20ac55.05m\n17   2005       West Ham        \u20ac42.40m\n18   2005          Wigan        \u20ac36.20m\n19   2005     Sunderland        \u20ac32.55m"
                    },
                    "execution_count": 3,
                    "metadata": {},
                    "output_type": "execute_result"
                }
            ],
            "source": "dataframe.head(20)"
        },
        {
            "cell_type": "code",
            "execution_count": null,
            "metadata": {},
            "outputs": [],
            "source": ""
        }
    ],
    "metadata": {
        "kernelspec": {
            "display_name": "Python 3.8",
            "language": "python",
            "name": "python3"
        },
        "language_info": {
            "codemirror_mode": {
                "name": "ipython",
                "version": 3
            },
            "file_extension": ".py",
            "mimetype": "text/x-python",
            "name": "python",
            "nbconvert_exporter": "python",
            "pygments_lexer": "ipython3",
            "version": "3.8.12"
        }
    },
    "nbformat": 4,
    "nbformat_minor": 4
}