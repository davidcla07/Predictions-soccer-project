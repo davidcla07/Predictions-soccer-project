{
    "cells": [
        {
            "cell_type": "markdown",
            "metadata": {
                "collapsed": true
            },
            "source": "# Database Cleaning Soccer Stats    \n\n<br>\n<br>\n<center>\n    <img src=\"https://static.dw.com/image/3816951_4.jpg\" width=\"300\" alt=\"soccer.logo\"  />\n</center>\n<br>\n\n<div style=\"text-align: right\"> <b>By David Clavijo</b> </div>  \n\n\n# About Database\n\nIn this notebook is edit the Database collected for forecasting the results of soccer matches (**Credits:https://www.football-data.co.uk/**).\nThe database consists of data of the five main leagues of world soccer by country **English Premier League (England), La Liga (Spain), Serie A (Italy), Bundesliga (Germany), and League 1 (France)**.\nIn the database, the data are recorded in a table for the season by each league. Example: EPL_2001, EPL, 2002, EPL_2003, etc.\nThe table is called using the following description:\n\n*   EPL: English Premier League (England)\n*   LALIGA: La Liga (Spain)\n*   SA: Serie A (Italy)\n*   BUNDESLIGA: Bundesliga (Germany)\n*   L1: League 1 (France)\n\nAfter each code by the league is used, the next character is \"underscore\",  and then continue the year of begin of the season like 2001, 2010, 2020, etc.\n"
        },
        {
            "cell_type": "markdown",
            "metadata": {},
            "source": "## Headers code\nthe next code shows the abbreviations to headers of the tables:\n\n**Basic information matches soccer**  \nDiv = League Division  \nDate = Match Date (dd/mm/yy)  \nTime = Time of match kick off  \nHomeTeam = Home Team  \nAwayTeam = Away Team  \nFTHG and HG = Full Time Home Team Goals  \nFTAG and AG = Full Time Away Team Goals  \nFTR and Res = Full Time Result (H=Home Win, D=Draw, A=Away Win)    \nHTHG = Half Time Home Team Goals  \nHTAG = Half Time Away Team Goals  \nHTR = Half Time Result (H=Home Win, D=Draw, A=Away Win)  \nAttendance = Crowd Attendance  \nReferee = Match Referee  \n  \n**Match Stats**  \nHS = Home Team Shots  \nAS = Away Team Shots  \nHST = Home Team Shots on Target  \nAST = Away Team Shots on Target  \nHHW = Home Team Hit Woodwork  \nAHW = Away Team Hit Woodwork  \nHC = Home Team Corners  \nAC = Away Team Corners  \nHF = Home Team Fouls Committed  \nAF = Away Team Fouls Committed  \nHFKC = Home Team Free Kicks Conceded  \nAFKC = Away Team Free Kicks Conceded  \nHO = Home Team Offsides  \nAO = Away Team Offsides  \nHY = Home Team Yellow Cards  \nAY = Away Team Yellow Cards  \nHR = Home Team Red Cards  \nAR = Away Team Red Cards  \nHBP = Home Team Bookings Points (10 = yellow, 25 = red)  \nABP = Away Team Bookings Points (10 = yellow, 25 = red)  \n  \nNote that Free Kicks Conceeded includes fouls, offsides and any other offense commmitted and will always be equal to or higher than the number of fouls. Fouls make up the vast majority of Free Kicks Conceded. Free Kicks Conceded are shown when specific data on Fouls are not available (France 2nd, Belgium 1st and Greece 1st divisions).  \n  \nNote also that English and Scottish yellow cards do not include the initial yellow card when a second is shown to a player converting it into a red, but this is included as a yellow (plus red) for European games.  \n  \n  \n**Key to 1X2 (match) betting odds data:**  \n  \nB365H = Bet365 home win odds  \nB365D = Bet365 draw odds  \nB365A = Bet365 away win odds  \nBSH = Blue Square home win odds  \nBSD = Blue Square draw odds  \nBSA = Blue Square away win odds  \nBWH = Bet&Win home win odds  \nBWD = Bet&Win draw odds  \nBWA = Bet&Win away win odds  \nGBH = Gamebookers home win odds  \nGBD = Gamebookers draw odds  \nGBA = Gamebookers away win odds  \nIWH = Interwetten home win odds  \nIWD = Interwetten draw odds  \nIWA = Interwetten away win odds  \nLBH = Ladbrokes home win odds  \nLBD = Ladbrokes draw odds  \nLBA = Ladbrokes away win odds  \nPSH and PH = Pinnacle home win odds  \nPSD and PD = Pinnacle draw odds  \nPSA and PA = Pinnacle away win odds  \nSOH = Sporting Odds home win odds  \nSOD = Sporting Odds draw odds  \nSOA = Sporting Odds away win odds  \nSBH = Sportingbet home win odds  \nSBD = Sportingbet draw odds  \nSBA = Sportingbet away win odds  \nSJH = Stan James home win odds  \nSJD = Stan James draw odds  \nSJA = Stan James away win odds  \nSYH = Stanleybet home win odds  \nSYD = Stanleybet draw odds  \nSYA = Stanleybet away win odds  \nVCH = VC Bet home win odds  \nVCD = VC Bet draw odds  \nVCA = VC Bet away win odds  \nWHH = William Hill home win odds  \nWHD = William Hill draw odds  \nWHA = William Hill away win odds  \n  \nBb1X2 = Number of BetBrain bookmakers used to calculate match odds averages and maximums  \nBbMxH = Betbrain maximum home win odds  \nBbAvH = Betbrain average home win odds  \nBbMxD = Betbrain maximum draw odds  \nBbAvD = Betbrain average draw win odds  \nBbMxA = Betbrain maximum away win odds  \nBbAvA = Betbrain average away win odds  \n  \nMaxH = Market maximum home win odds  \nMaxD = Market maximum draw win odds  \nMaxA = Market maximum away win odds  \nAvgH = Market average home win odds  \nAvgD = Market average draw win odds  \nAvgA = Market average away win odds  \n  \n  \n\n**Key to total goals betting odds:**  \n  \nBbOU = Number of BetBrain bookmakers used to calculate over/under 2.5 goals (total goals) averages and maximums  \nBbMx>2.5 = Betbrain maximum over 2.5 goals  \nBbAv>2.5 = Betbrain average over 2.5 goals  \nBbMx<2.5 = Betbrain maximum under 2.5 goals  \nBbAv<2.5 = Betbrain average under 2.5 goals  \n  \nGB>2.5 = Gamebookers over 2.5 goals  \nGB<2.5 = Gamebookers under 2.5 goals  \nB365>2.5 = Bet365 over 2.5 goals  \nB365<2.5 = Bet365 under 2.5 goals  \nP>2.5 = Pinnacle over 2.5 goals  \nP<2.5 = Pinnacle under 2.5 goals  \nMax>2.5 = Market maximum over 2.5 goals  \nMax<2.5 = Market maximum under 2.5 goals  \nAvg>2.5 = Market average over 2.5 goals  \nAvg<2.5 = Market average under 2.5 goals  \n  \n\n\n**Key to Asian handicap betting odds:**  \n  \nBbAH = Number of BetBrain bookmakers used to Asian handicap averages and maximums  \nBbAHh = Betbrain size of handicap (home team)  \nAHh = Market size of handicap (home team) (since 2019/2020)  \nBbMxAHH = Betbrain maximum Asian handicap home team odds  \nBbAvAHH = Betbrain average Asian handicap home team odds  \nBbMxAHA = Betbrain maximum Asian handicap away team odds  \nBbAvAHA = Betbrain average Asian handicap away team odds  \n  \nGBAHH = Gamebookers Asian handicap home team odds  \nGBAHA = Gamebookers Asian handicap away team odds  \nGBAH = Gamebookers size of handicap (home team)  \nLBAHH = Ladbrokes Asian handicap home team odds  \nLBAHA = Ladbrokes Asian handicap away team odds  \nLBAH = Ladbrokes size of handicap (home team)  \nB365AHH = Bet365 Asian handicap home team odds  \nB365AHA = Bet365 Asian handicap away team odds  \nB365AH = Bet365 size of handicap (home team)  \nPAHH = Pinnacle Asian handicap home team odds  \nPAHA = Pinnacle Asian handicap away team odds  \nMaxAHH = Market maximum Asian handicap home team odds  \nMaxAHA = Market maximum Asian handicap away team odds  \t\nAvgAHH = Market average Asian handicap home team odds  \nAvgAHA = Market average Asian handicap away team odds  \n  \n\n\n**Closing odds (last odds before match starts)**  \n\nAs above but with an additional \"C\" character following the bookmaker abbreviation/Max/Avg  \n\nFootball-Data would like to acknowledge the following sources which have been utilised in the compilation of Football-Data's results and odds files.  \n\n\nCurrent results (full time, half time)  \nXScores - http://www.xscores .com  \n\nMatch statistics\nBBC, ESPN Soccer, Bundesliga.de, Gazzetta.it and Football.fr  \n\nBookmakers betting odds  \nIndividual bookmakers  \n\nBetting odds for weekend games are collected Friday afternoons, and on Tuesday afternoons for midweek games.  "
        },
        {
            "cell_type": "markdown",
            "metadata": {},
            "source": "![purple-divider](https://user-images.githubusercontent.com/7065401/52071927-c1cd7100-2562-11e9-908a-dde91ba14e59.png) \n\n## Editing Date...  \n\nIn the Database, there are many data in which the format of the date of the match isn't the same. The date of the matches has the format DD / MM / YY, but the year to a lot of records is like **12/02/09**, instead of **12/02/2009**, the year must be of four digits. This issue will be solved in this section."
        },
        {
            "cell_type": "markdown",
            "metadata": {},
            "source": "### Connect to Data base.\n\nTo edit the data and change the year in each table, I'll use conecction SQL API:"
        },
        {
            "cell_type": "code",
            "execution_count": 19,
            "metadata": {
                "scrolled": true
            },
            "outputs": [
                {
                    "name": "stdout",
                    "output_type": "stream",
                    "text": "Requirement already satisfied: sqlalchemy==1.3.9 in /opt/conda/envs/Python-3.8-main/lib/python3.8/site-packages (1.3.9)\nRequirement already satisfied: ipython-sql in /opt/conda/envs/Python-3.8-main/lib/python3.8/site-packages (0.4.0)\nRequirement already satisfied: prettytable<1 in /opt/conda/envs/Python-3.8-main/lib/python3.8/site-packages (from ipython-sql) (0.7.2)\nRequirement already satisfied: sqlparse in /opt/conda/envs/Python-3.8-main/lib/python3.8/site-packages (from ipython-sql) (0.4.2)\nRequirement already satisfied: sqlalchemy>=0.6.7 in /opt/conda/envs/Python-3.8-main/lib/python3.8/site-packages (from ipython-sql) (1.3.9)\nRequirement already satisfied: six in /opt/conda/envs/Python-3.8-main/lib/python3.8/site-packages (from ipython-sql) (1.15.0)\nRequirement already satisfied: ipython-genutils>=0.1.0 in /opt/conda/envs/Python-3.8-main/lib/python3.8/site-packages (from ipython-sql) (0.2.0)\nRequirement already satisfied: ipython>=1.0 in /opt/conda/envs/Python-3.8-main/lib/python3.8/site-packages (from ipython-sql) (7.22.0)\nRequirement already satisfied: backcall in /opt/conda/envs/Python-3.8-main/lib/python3.8/site-packages (from ipython>=1.0->ipython-sql) (0.2.0)\nRequirement already satisfied: decorator in /opt/conda/envs/Python-3.8-main/lib/python3.8/site-packages (from ipython>=1.0->ipython-sql) (5.0.9)\nRequirement already satisfied: setuptools>=18.5 in /opt/conda/envs/Python-3.8-main/lib/python3.8/site-packages (from ipython>=1.0->ipython-sql) (52.0.0.post20210125)\nRequirement already satisfied: pickleshare in /opt/conda/envs/Python-3.8-main/lib/python3.8/site-packages (from ipython>=1.0->ipython-sql) (0.7.5)\nRequirement already satisfied: traitlets>=4.2 in /opt/conda/envs/Python-3.8-main/lib/python3.8/site-packages (from ipython>=1.0->ipython-sql) (5.0.5)\nRequirement already satisfied: pygments in /opt/conda/envs/Python-3.8-main/lib/python3.8/site-packages (from ipython>=1.0->ipython-sql) (2.9.0)\nRequirement already satisfied: prompt-toolkit!=3.0.0,!=3.0.1,<3.1.0,>=2.0.0 in /opt/conda/envs/Python-3.8-main/lib/python3.8/site-packages (from ipython>=1.0->ipython-sql) (3.0.17)\nRequirement already satisfied: jedi>=0.16 in /opt/conda/envs/Python-3.8-main/lib/python3.8/site-packages (from ipython>=1.0->ipython-sql) (0.17.2)\nRequirement already satisfied: pexpect>4.3 in /opt/conda/envs/Python-3.8-main/lib/python3.8/site-packages (from ipython>=1.0->ipython-sql) (4.8.0)\nRequirement already satisfied: parso<0.8.0,>=0.7.0 in /opt/conda/envs/Python-3.8-main/lib/python3.8/site-packages (from jedi>=0.16->ipython>=1.0->ipython-sql) (0.7.0)\nRequirement already satisfied: ptyprocess>=0.5 in /opt/conda/envs/Python-3.8-main/lib/python3.8/site-packages (from pexpect>4.3->ipython>=1.0->ipython-sql) (0.7.0)\nRequirement already satisfied: wcwidth in /opt/conda/envs/Python-3.8-main/lib/python3.8/site-packages (from prompt-toolkit!=3.0.0,!=3.0.1,<3.1.0,>=2.0.0->ipython>=1.0->ipython-sql) (0.2.5)\n"
                }
            ],
            "source": "!pip install sqlalchemy==1.3.9 #install libraries if you don't have them.\n#!pip install ibm_db_sa\n!pip install ipython-sql"
        },
        {
            "cell_type": "code",
            "execution_count": 20,
            "metadata": {},
            "outputs": [],
            "source": "import ibm_db\nimport ibm_db_dbi\nfrom sqlalchemy import create_engine"
        },
        {
            "cell_type": "markdown",
            "metadata": {},
            "source": "### connection to Database..\nin the next chunk of code hidden (personal access to the database), the connection is established."
        },
        {
            "cell_type": "code",
            "execution_count": 21,
            "metadata": {
                "scrolled": true
            },
            "outputs": [],
            "source": "# The code was removed by Watson Studio for sharing."
        },
        {
            "cell_type": "code",
            "execution_count": 22,
            "metadata": {},
            "outputs": [],
            "source": "#Pandas does not support many databases so we use recommended\nengine = create_engine(sqla_url)\nconn = engine.connect()"
        },
        {
            "cell_type": "markdown",
            "metadata": {},
            "source": "### Retrieve data into Pandas\nIn this step we will retrieve the contents of the INSTRUCTOR table into a Pandas dataframe"
        },
        {
            "cell_type": "code",
            "execution_count": 23,
            "metadata": {},
            "outputs": [],
            "source": "import pandas as pd\n"
        },
        {
            "cell_type": "markdown",
            "metadata": {},
            "source": "#### Create list with names of leagues"
        },
        {
            "cell_type": "markdown",
            "metadata": {},
            "source": "**EPL**  2001 to 2020  \n**Bundesliga**  2003 to 2020  \n**La Liga** 2000 to 2020  \n**Serie A** 2002 to 2020  \n**Ligue 1** 2015 to 2020"
        },
        {
            "cell_type": "code",
            "execution_count": 24,
            "metadata": {},
            "outputs": [],
            "source": "#list of years\nyears=[str(2000+i) for i in range(21)] #2000 to 2020\n\n#list of leagues by each year\nepl=[\"epl_\"+i for i in years]\nbundesliga=[\"bundesliga_\"+i for i in years]\nlaliga=[\"laliga_\"+i for i in years]\nseriea=[\"sa_\"+i for i in years]\nligue1=[\"l1_\"+i for i in years]\ntables=epl[1:]+bundesliga[3:]+laliga+seriea[2:]+ligue1[-6:]"
        },
        {
            "cell_type": "code",
            "execution_count": 25,
            "metadata": {},
            "outputs": [
                {
                    "name": "stdout",
                    "output_type": "stream",
                    "text": "['epl_2001', 'epl_2002', 'epl_2003', 'epl_2004', 'epl_2005', 'epl_2006', 'epl_2007', 'epl_2008', 'epl_2009', 'epl_2010', 'epl_2011', 'epl_2012', 'epl_2013', 'epl_2014', 'epl_2015', 'epl_2016', 'epl_2017', 'epl_2018', 'epl_2019', 'epl_2020', 'bundesliga_2003', 'bundesliga_2004', 'bundesliga_2005', 'bundesliga_2006', 'bundesliga_2007', 'bundesliga_2008', 'bundesliga_2009', 'bundesliga_2010', 'bundesliga_2011', 'bundesliga_2012', 'bundesliga_2013', 'bundesliga_2014', 'bundesliga_2015', 'bundesliga_2016', 'bundesliga_2017', 'bundesliga_2018', 'bundesliga_2019', 'bundesliga_2020', 'laliga_2000', 'laliga_2001', 'laliga_2002', 'laliga_2003', 'laliga_2004', 'laliga_2005', 'laliga_2006', 'laliga_2007', 'laliga_2008', 'laliga_2009', 'laliga_2010', 'laliga_2011', 'laliga_2012', 'laliga_2013', 'laliga_2014', 'laliga_2015', 'laliga_2016', 'laliga_2017', 'laliga_2018', 'laliga_2019', 'laliga_2020', 'sa_2002', 'sa_2003', 'sa_2004', 'sa_2005', 'sa_2006', 'sa_2007', 'sa_2008', 'sa_2009', 'sa_2010', 'sa_2011', 'sa_2012', 'sa_2013', 'sa_2014', 'sa_2015', 'sa_2016', 'sa_2017', 'sa_2018', 'sa_2019', 'sa_2020', 'l1_2015', 'l1_2016', 'l1_2017', 'l1_2018', 'l1_2019', 'l1_2020']\n"
                }
            ],
            "source": "print(tables)"
        },
        {
            "cell_type": "markdown",
            "metadata": {},
            "source": "the next code edits the tables of the database using pandas and updating them."
        },
        {
            "cell_type": "code",
            "execution_count": 26,
            "metadata": {},
            "outputs": [],
            "source": "from sqlalchemy.types import VARCHAR, DATE\nfor table in tables:\n    #query statement to retrieve all rows in table\n    selectQuery = \"select * from \"+table\n    #retrieve the query results into a pandas dataframe\n    pdf = pd.read_sql(sql=selectQuery, con=engine)\n    #editing DATE\n    rows=[str(i)[:6]+\"20\"+str(i)[6:8] for i in pdf[\"DATE\"] if len(str(i))<9]\n    if len(rows)>20:\n        pdf.DATE=rows\n        #Write to database\n        pdf.to_sql(table, con=engine, if_exists='replace',dtype={\"div\":VARCHAR(3),\"DATE\":VARCHAR(11),\"hometeam\":VARCHAR(20),\"awayteam\":VARCHAR(20),\"referee\":VARCHAR(20),\"ftr\":VARCHAR(1),\"htr\":VARCHAR(1)})\n        print(\"sucessfully : \",table)\n    else:\n        continue"
        },
        {
            "cell_type": "markdown",
            "metadata": {},
            "source": "**The format of the column DATE is updated for all tables of the database**"
        },
        {
            "cell_type": "markdown",
            "metadata": {},
            "source": "## Note:\n\nThe connection used was through SQL Alchemy to edit the database with pandas. To connect to the database and execute queries since python in Db2 is possible to establish the connection using the library ibm_db or command %sql called sql magic:"
        },
        {
            "cell_type": "markdown",
            "metadata": {},
            "source": "## **Connection using library ibm_db:**"
        },
        {
            "cell_type": "markdown",
            "metadata": {},
            "source": "When the command above completes, the `ibm_db` library is loaded in your notebook.\n\n### Identify the database connection credentials\n\nConnecting to dashDB or DB2 database requires the following information:\n\n*   Driver Name\n*   Database name\n*   Host DNS name or IP address\n*   Host port\n*   Connection protocol\n*   User ID\n*   User Password\n\nNow enter your database credentials below\n\nReplace the placeholder values in angular brackets <> below with your actual database credentials\n\ne.g. replace \"database\" with \"BLUDB\""
        },
        {
            "cell_type": "code",
            "execution_count": 27,
            "metadata": {},
            "outputs": [],
            "source": "# The code was removed by Watson Studio for sharing."
        },
        {
            "cell_type": "code",
            "execution_count": 28,
            "metadata": {},
            "outputs": [
                {
                    "name": "stdout",
                    "output_type": "stream",
                    "text": "Connected to database:  bludb as user:  vlw69202 on host:  54a2f15b-5c0f-46df-8954-7e38e612c2bd.c1ogj3sd0tgtu0lqde00.databases.appdomain.cloud\n"
                }
            ],
            "source": "#Create database connection\n#DO NOT MODIFY THIS CELL. Just RUN it with Shift + Enter\ndsn = (\n    \"DRIVER={0};\"\n    \"DATABASE={1};\"\n    \"HOSTNAME={2};\"\n    \"PORT={3};\"\n    \"PROTOCOL={4};\"\n    \"UID={5};\"\n    \"PWD={6};\"\n    \"SECURITY={7};\").format(dsn_driver, dsn_database, dsn_hostname, dsn_port, dsn_protocol, dsn_uid, dsn_pwd,dsn_security)\n\ntry:\n    conn = ibm_db.connect(dsn, \"\", \"\")\n    print (\"Connected to database: \", dsn_database, \"as user: \", dsn_uid, \"on host: \", dsn_hostname)\n\nexcept:\n    print (\"Unable to connect: \", ibm_db.conn_errormsg() )"
        },
        {
            "cell_type": "markdown",
            "metadata": {},
            "source": "## **Connection using %sql magic:**"
        },
        {
            "cell_type": "code",
            "execution_count": 29,
            "metadata": {},
            "outputs": [
                {
                    "name": "stdout",
                    "output_type": "stream",
                    "text": "The sql extension is already loaded. To reload it, use:\n  %reload_ext sql\n"
                }
            ],
            "source": "%load_ext sql"
        },
        {
            "cell_type": "code",
            "execution_count": 30,
            "metadata": {},
            "outputs": [],
            "source": "# The code was removed by Watson Studio for sharing."
        },
        {
            "cell_type": "markdown",
            "metadata": {},
            "source": "### Team Names\n\nThe next query finds out the team names unique by each league. In this case English Premier League. It's important to find out repeat names and then unify them. "
        },
        {
            "cell_type": "code",
            "execution_count": 31,
            "metadata": {},
            "outputs": [
                {
                    "name": "stdout",
                    "output_type": "stream",
                    "text": " * ibm_db_sa://vlw69202:***@54a2f15b-5c0f-46df-8954-7e38e612c2bd.c1ogj3sd0tgtu0lqde00.databases.appdomain.cloud:32733/bludb\nDone.\n"
                },
                {
                    "data": {
                        "text/html": "<table>\n    <tr>\n        <th>hometeam</th>\n    </tr>\n    <tr>\n        <td>Arsenal</td>\n    </tr>\n    <tr>\n        <td>Aston Villa</td>\n    </tr>\n    <tr>\n        <td>Birmingham</td>\n    </tr>\n    <tr>\n        <td>Blackburn</td>\n    </tr>\n    <tr>\n        <td>Blackpool</td>\n    </tr>\n    <tr>\n        <td>Bolton</td>\n    </tr>\n    <tr>\n        <td>Bournemouth</td>\n    </tr>\n    <tr>\n        <td>Brighton</td>\n    </tr>\n    <tr>\n        <td>Burnley</td>\n    </tr>\n    <tr>\n        <td>Cardiff</td>\n    </tr>\n    <tr>\n        <td>Charlton</td>\n    </tr>\n    <tr>\n        <td>Chelsea</td>\n    </tr>\n    <tr>\n        <td>Crystal Palace</td>\n    </tr>\n    <tr>\n        <td>Derby</td>\n    </tr>\n    <tr>\n        <td>Everton</td>\n    </tr>\n    <tr>\n        <td>Fulham</td>\n    </tr>\n    <tr>\n        <td>Huddersfield</td>\n    </tr>\n    <tr>\n        <td>Hull</td>\n    </tr>\n    <tr>\n        <td>Ipswich</td>\n    </tr>\n    <tr>\n        <td>Leeds</td>\n    </tr>\n    <tr>\n        <td>Leicester</td>\n    </tr>\n    <tr>\n        <td>Liverpool</td>\n    </tr>\n    <tr>\n        <td>Man City</td>\n    </tr>\n    <tr>\n        <td>Man United</td>\n    </tr>\n    <tr>\n        <td>Middlesbrough</td>\n    </tr>\n    <tr>\n        <td>Newcastle</td>\n    </tr>\n    <tr>\n        <td>Norwich</td>\n    </tr>\n    <tr>\n        <td>Portsmouth</td>\n    </tr>\n    <tr>\n        <td>QPR</td>\n    </tr>\n    <tr>\n        <td>Reading</td>\n    </tr>\n    <tr>\n        <td>Sheffield United</td>\n    </tr>\n    <tr>\n        <td>Southampton</td>\n    </tr>\n    <tr>\n        <td>Stoke</td>\n    </tr>\n    <tr>\n        <td>Sunderland</td>\n    </tr>\n    <tr>\n        <td>Swansea</td>\n    </tr>\n    <tr>\n        <td>Tottenham</td>\n    </tr>\n    <tr>\n        <td>Watford</td>\n    </tr>\n    <tr>\n        <td>West Brom</td>\n    </tr>\n    <tr>\n        <td>West Ham</td>\n    </tr>\n    <tr>\n        <td>Wigan</td>\n    </tr>\n    <tr>\n        <td>Wolves</td>\n    </tr>\n</table>",
                        "text/plain": "[('Arsenal',),\n ('Aston Villa',),\n ('Birmingham',),\n ('Blackburn',),\n ('Blackpool',),\n ('Bolton',),\n ('Bournemouth',),\n ('Brighton',),\n ('Burnley',),\n ('Cardiff',),\n ('Charlton',),\n ('Chelsea',),\n ('Crystal Palace',),\n ('Derby',),\n ('Everton',),\n ('Fulham',),\n ('Huddersfield',),\n ('Hull',),\n ('Ipswich',),\n ('Leeds',),\n ('Leicester',),\n ('Liverpool',),\n ('Man City',),\n ('Man United',),\n ('Middlesbrough',),\n ('Newcastle',),\n ('Norwich',),\n ('Portsmouth',),\n ('QPR',),\n ('Reading',),\n ('Sheffield United',),\n ('Southampton',),\n ('Stoke',),\n ('Sunderland',),\n ('Swansea',),\n ('Tottenham',),\n ('Watford',),\n ('West Brom',),\n ('West Ham',),\n ('Wigan',),\n ('Wolves',)]"
                    },
                    "execution_count": 31,
                    "metadata": {},
                    "output_type": "execute_result"
                }
            ],
            "source": "%%sql\n\nSELECT DISTINCT *\nFROM(\nSELECT HOMETEAM FROM EPL_2001\nUNION ALL\nSELECT HOMETEAM FROM EPL_2002 \nUNION ALL\nSELECT HOMETEAM FROM EPL_2003\nUNION ALL\nSELECT HOMETEAM FROM EPL_2004\nUNION ALL\nSELECT HOMETEAM FROM EPL_2005\nUNION ALL\nSELECT HOMETEAM FROM EPL_2006\nUNION ALL\nSELECT HOMETEAM FROM EPL_2007\nUNION ALL\nSELECT HOMETEAM FROM EPL_2008\nUNION ALL\nSELECT HOMETEAM FROM EPL_2009\nUNION ALL\nSELECT HOMETEAM FROM EPL_2010\nUNION ALL\nSELECT HOMETEAM FROM EPL_2011\nUNION ALL\nSELECT HOMETEAM FROM EPL_2012\nUNION ALL\nSELECT HOMETEAM FROM EPL_2013\nUNION ALL\nSELECT HOMETEAM FROM EPL_2014\nUNION ALL\nSELECT HOMETEAM FROM EPL_2015\nUNION ALL\nSELECT HOMETEAM FROM EPL_2016\nUNION ALL\nSELECT HOMETEAM FROM EPL_2017\nUNION ALL\nSELECT HOMETEAM FROM EPL_2018\nUNION ALL\nSELECT HOMETEAM FROM EPL_2019\nUNION ALL\nSELECT HOMETEAM FROM EPL_2020\n)\nORDER BY HOMETEAM ASC;"
        },
        {
            "cell_type": "markdown",
            "metadata": {},
            "source": "We can see that some names seem to refer to the same team, and others can be badly written. To find out this it's important to know the official names of the teams in the league and explore the data.....  \nAfter verifying the team names there aren't misspelling mistakes. **All teams in the Premier League are ok**."
        },
        {
            "cell_type": "markdown",
            "metadata": {},
            "source": "for the **Bundesliga:**"
        },
        {
            "cell_type": "code",
            "execution_count": 32,
            "metadata": {},
            "outputs": [
                {
                    "name": "stdout",
                    "output_type": "stream",
                    "text": " * ibm_db_sa://vlw69202:***@54a2f15b-5c0f-46df-8954-7e38e612c2bd.c1ogj3sd0tgtu0lqde00.databases.appdomain.cloud:32733/bludb\nDone.\n"
                },
                {
                    "data": {
                        "text/html": "<table>\n    <tr>\n        <th>hometeam</th>\n    </tr>\n    <tr>\n        <td>Aachen</td>\n    </tr>\n    <tr>\n        <td>Augsburg</td>\n    </tr>\n    <tr>\n        <td>Bayern Munich</td>\n    </tr>\n    <tr>\n        <td>Bielefeld</td>\n    </tr>\n    <tr>\n        <td>Bochum</td>\n    </tr>\n    <tr>\n        <td>Braunschweig</td>\n    </tr>\n    <tr>\n        <td>Cottbus</td>\n    </tr>\n    <tr>\n        <td>Darmstadt</td>\n    </tr>\n    <tr>\n        <td>Dortmund</td>\n    </tr>\n    <tr>\n        <td>Duisburg</td>\n    </tr>\n    <tr>\n        <td>Ein Frankfurt</td>\n    </tr>\n    <tr>\n        <td>FC Koln</td>\n    </tr>\n    <tr>\n        <td>Fortuna Dusseldorf</td>\n    </tr>\n    <tr>\n        <td>Freiburg</td>\n    </tr>\n    <tr>\n        <td>Greuther Furth</td>\n    </tr>\n    <tr>\n        <td>Hamburg</td>\n    </tr>\n    <tr>\n        <td>Hannover</td>\n    </tr>\n    <tr>\n        <td>Hansa Rostock</td>\n    </tr>\n    <tr>\n        <td>Hertha</td>\n    </tr>\n    <tr>\n        <td>Hoffenheim</td>\n    </tr>\n    <tr>\n        <td>Ingolstadt</td>\n    </tr>\n    <tr>\n        <td>Kaiserslautern</td>\n    </tr>\n    <tr>\n        <td>Karlsruhe</td>\n    </tr>\n    <tr>\n        <td>Leverkusen</td>\n    </tr>\n    <tr>\n        <td>M&#x27;gladbach</td>\n    </tr>\n    <tr>\n        <td>Mainz</td>\n    </tr>\n    <tr>\n        <td>Munich 1860</td>\n    </tr>\n    <tr>\n        <td>Nurnberg</td>\n    </tr>\n    <tr>\n        <td>Paderborn</td>\n    </tr>\n    <tr>\n        <td>RB Leipzig</td>\n    </tr>\n    <tr>\n        <td>Schalke 04</td>\n    </tr>\n    <tr>\n        <td>St Pauli</td>\n    </tr>\n    <tr>\n        <td>Stuttgart</td>\n    </tr>\n    <tr>\n        <td>Union Berlin</td>\n    </tr>\n    <tr>\n        <td>Werder Bremen</td>\n    </tr>\n    <tr>\n        <td>Wolfsburg</td>\n    </tr>\n</table>",
                        "text/plain": "[('Aachen',),\n ('Augsburg',),\n ('Bayern Munich',),\n ('Bielefeld',),\n ('Bochum',),\n ('Braunschweig',),\n ('Cottbus',),\n ('Darmstadt',),\n ('Dortmund',),\n ('Duisburg',),\n ('Ein Frankfurt',),\n ('FC Koln',),\n ('Fortuna Dusseldorf',),\n ('Freiburg',),\n ('Greuther Furth',),\n ('Hamburg',),\n ('Hannover',),\n ('Hansa Rostock',),\n ('Hertha',),\n ('Hoffenheim',),\n ('Ingolstadt',),\n ('Kaiserslautern',),\n ('Karlsruhe',),\n ('Leverkusen',),\n (\"M'gladbach\",),\n ('Mainz',),\n ('Munich 1860',),\n ('Nurnberg',),\n ('Paderborn',),\n ('RB Leipzig',),\n ('Schalke 04',),\n ('St Pauli',),\n ('Stuttgart',),\n ('Union Berlin',),\n ('Werder Bremen',),\n ('Wolfsburg',)]"
                    },
                    "execution_count": 32,
                    "metadata": {},
                    "output_type": "execute_result"
                }
            ],
            "source": "%%sql\n\nSELECT DISTINCT *\nFROM(\nSELECT HOMETEAM FROM BUNDESLIGA_2003\nUNION ALL\nSELECT HOMETEAM FROM BUNDESLIGA_2004 \nUNION ALL\nSELECT HOMETEAM FROM BUNDESLIGA_2005\nUNION ALL\nSELECT HOMETEAM FROM BUNDESLIGA_2006\nUNION ALL\nSELECT HOMETEAM FROM BUNDESLIGA_2007\nUNION ALL\nSELECT HOMETEAM FROM BUNDESLIGA_2008\nUNION ALL\nSELECT HOMETEAM FROM BUNDESLIGA_2009\nUNION ALL\nSELECT HOMETEAM FROM BUNDESLIGA_2010\nUNION ALL\nSELECT HOMETEAM FROM BUNDESLIGA_2011\nUNION ALL\nSELECT HOMETEAM FROM BUNDESLIGA_2012\nUNION ALL\nSELECT HOMETEAM FROM BUNDESLIGA_2013\nUNION ALL\nSELECT HOMETEAM FROM BUNDESLIGA_2014\nUNION ALL\nSELECT HOMETEAM FROM BUNDESLIGA_2015\nUNION ALL\nSELECT HOMETEAM FROM BUNDESLIGA_2016\nUNION ALL\nSELECT HOMETEAM FROM BUNDESLIGA_2017\nUNION ALL\nSELECT HOMETEAM FROM BUNDESLIGA_2018\nUNION ALL\nSELECT HOMETEAM FROM BUNDESLIGA_2019\nUNION ALL\nSELECT HOMETEAM FROM BUNDESLIGA_2020\n)\nORDER BY HOMETEAM ASC;"
        },
        {
            "cell_type": "markdown",
            "metadata": {},
            "source": "**All teams in the Bundesliga are ok.**"
        },
        {
            "cell_type": "markdown",
            "metadata": {},
            "source": "for the **La Liga:**"
        },
        {
            "cell_type": "code",
            "execution_count": 33,
            "metadata": {},
            "outputs": [
                {
                    "name": "stdout",
                    "output_type": "stream",
                    "text": " * ibm_db_sa://vlw69202:***@54a2f15b-5c0f-46df-8954-7e38e612c2bd.c1ogj3sd0tgtu0lqde00.databases.appdomain.cloud:32733/bludb\nDone.\n"
                },
                {
                    "data": {
                        "text/html": "<table>\n    <tr>\n        <th>hometeam</th>\n    </tr>\n    <tr>\n        <td>Alaves</td>\n    </tr>\n    <tr>\n        <td>Albacete</td>\n    </tr>\n    <tr>\n        <td>Almeria</td>\n    </tr>\n    <tr>\n        <td>Ath Bilbao</td>\n    </tr>\n    <tr>\n        <td>Ath Madrid</td>\n    </tr>\n    <tr>\n        <td>Barcelona</td>\n    </tr>\n    <tr>\n        <td>Betis</td>\n    </tr>\n    <tr>\n        <td>Cadiz</td>\n    </tr>\n    <tr>\n        <td>Celta</td>\n    </tr>\n    <tr>\n        <td>Cordoba</td>\n    </tr>\n    <tr>\n        <td>Eibar</td>\n    </tr>\n    <tr>\n        <td>Elche</td>\n    </tr>\n    <tr>\n        <td>Espanol</td>\n    </tr>\n    <tr>\n        <td>Getafe</td>\n    </tr>\n    <tr>\n        <td>Gimnastic</td>\n    </tr>\n    <tr>\n        <td>Girona</td>\n    </tr>\n    <tr>\n        <td>Granada</td>\n    </tr>\n    <tr>\n        <td>Hercules</td>\n    </tr>\n    <tr>\n        <td>Huesca</td>\n    </tr>\n    <tr>\n        <td>La Coruna</td>\n    </tr>\n    <tr>\n        <td>Las Palmas</td>\n    </tr>\n    <tr>\n        <td>Leganes</td>\n    </tr>\n    <tr>\n        <td>Levante</td>\n    </tr>\n    <tr>\n        <td>Malaga</td>\n    </tr>\n    <tr>\n        <td>Mallorca</td>\n    </tr>\n    <tr>\n        <td>Murcia</td>\n    </tr>\n    <tr>\n        <td>Numancia</td>\n    </tr>\n    <tr>\n        <td>Osasuna</td>\n    </tr>\n    <tr>\n        <td>Oviedo</td>\n    </tr>\n    <tr>\n        <td>Real Madrid</td>\n    </tr>\n    <tr>\n        <td>Recreativo</td>\n    </tr>\n    <tr>\n        <td>Santander</td>\n    </tr>\n    <tr>\n        <td>Sevilla</td>\n    </tr>\n    <tr>\n        <td>Sociedad</td>\n    </tr>\n    <tr>\n        <td>Sp Gijon</td>\n    </tr>\n    <tr>\n        <td>Tenerife</td>\n    </tr>\n    <tr>\n        <td>Valencia</td>\n    </tr>\n    <tr>\n        <td>Valladolid</td>\n    </tr>\n    <tr>\n        <td>Vallecano</td>\n    </tr>\n    <tr>\n        <td>Villarreal</td>\n    </tr>\n    <tr>\n        <td>Xerez</td>\n    </tr>\n    <tr>\n        <td>Zaragoza</td>\n    </tr>\n</table>",
                        "text/plain": "[('Alaves',),\n ('Albacete',),\n ('Almeria',),\n ('Ath Bilbao',),\n ('Ath Madrid',),\n ('Barcelona',),\n ('Betis',),\n ('Cadiz',),\n ('Celta',),\n ('Cordoba',),\n ('Eibar',),\n ('Elche',),\n ('Espanol',),\n ('Getafe',),\n ('Gimnastic',),\n ('Girona',),\n ('Granada',),\n ('Hercules',),\n ('Huesca',),\n ('La Coruna',),\n ('Las Palmas',),\n ('Leganes',),\n ('Levante',),\n ('Malaga',),\n ('Mallorca',),\n ('Murcia',),\n ('Numancia',),\n ('Osasuna',),\n ('Oviedo',),\n ('Real Madrid',),\n ('Recreativo',),\n ('Santander',),\n ('Sevilla',),\n ('Sociedad',),\n ('Sp Gijon',),\n ('Tenerife',),\n ('Valencia',),\n ('Valladolid',),\n ('Vallecano',),\n ('Villarreal',),\n ('Xerez',),\n ('Zaragoza',)]"
                    },
                    "execution_count": 33,
                    "metadata": {},
                    "output_type": "execute_result"
                }
            ],
            "source": "%%sql\n\nSELECT DISTINCT *\nFROM(\nSELECT HOMETEAM FROM LALIGA_2000\nUNION ALL\nSELECT HOMETEAM FROM LALIGA_2001\nUNION ALL\nSELECT HOMETEAM FROM LALIGA_2002\nUNION ALL\nSELECT HOMETEAM FROM LALIGA_2003\nUNION ALL\nSELECT HOMETEAM FROM LALIGA_2004\nUNION ALL\nSELECT HOMETEAM FROM LALIGA_2005\nUNION ALL\nSELECT HOMETEAM FROM LALIGA_2006\nUNION ALL\nSELECT HOMETEAM FROM LALIGA_2007\nUNION ALL\nSELECT HOMETEAM FROM LALIGA_2008\nUNION ALL\nSELECT HOMETEAM FROM LALIGA_2009\nUNION ALL\nSELECT HOMETEAM FROM LALIGA_2010\nUNION ALL\nSELECT HOMETEAM FROM LALIGA_2011\nUNION ALL\nSELECT HOMETEAM FROM LALIGA_2012\nUNION ALL\nSELECT HOMETEAM FROM LALIGA_2013\nUNION ALL\nSELECT HOMETEAM FROM LALIGA_2014\nUNION ALL\nSELECT HOMETEAM FROM LALIGA_2015\nUNION ALL\nSELECT HOMETEAM FROM LALIGA_2016\nUNION ALL\nSELECT HOMETEAM FROM LALIGA_2017\nUNION ALL\nSELECT HOMETEAM FROM LALIGA_2018\nUNION ALL\nSELECT HOMETEAM FROM LALIGA_2019\nUNION ALL\nSELECT HOMETEAM FROM LALIGA_2020\n)\nORDER BY HOMETEAM ASC;"
        },
        {
            "cell_type": "markdown",
            "metadata": {},
            "source": "**All teams in the La Liga are ok**"
        },
        {
            "cell_type": "markdown",
            "metadata": {},
            "source": "for the **Serie A:**"
        },
        {
            "cell_type": "code",
            "execution_count": 34,
            "metadata": {},
            "outputs": [
                {
                    "name": "stdout",
                    "output_type": "stream",
                    "text": " * ibm_db_sa://vlw69202:***@54a2f15b-5c0f-46df-8954-7e38e612c2bd.c1ogj3sd0tgtu0lqde00.databases.appdomain.cloud:32733/bludb\nDone.\n"
                },
                {
                    "data": {
                        "text/html": "<table>\n    <tr>\n        <th>hometeam</th>\n    </tr>\n    <tr>\n        <td>Ancona</td>\n    </tr>\n    <tr>\n        <td>Ascoli</td>\n    </tr>\n    <tr>\n        <td>Atalanta</td>\n    </tr>\n    <tr>\n        <td>Bari</td>\n    </tr>\n    <tr>\n        <td>Benevento</td>\n    </tr>\n    <tr>\n        <td>Bologna</td>\n    </tr>\n    <tr>\n        <td>Brescia</td>\n    </tr>\n    <tr>\n        <td>Cagliari</td>\n    </tr>\n    <tr>\n        <td>Carpi</td>\n    </tr>\n    <tr>\n        <td>Catania</td>\n    </tr>\n    <tr>\n        <td>Cesena</td>\n    </tr>\n    <tr>\n        <td>Chievo</td>\n    </tr>\n    <tr>\n        <td>Como</td>\n    </tr>\n    <tr>\n        <td>Crotone</td>\n    </tr>\n    <tr>\n        <td>Empoli</td>\n    </tr>\n    <tr>\n        <td>Fiorentina</td>\n    </tr>\n    <tr>\n        <td>Frosinone</td>\n    </tr>\n    <tr>\n        <td>Genoa</td>\n    </tr>\n    <tr>\n        <td>Inter</td>\n    </tr>\n    <tr>\n        <td>Juventus</td>\n    </tr>\n    <tr>\n        <td>Lazio</td>\n    </tr>\n    <tr>\n        <td>Lecce</td>\n    </tr>\n    <tr>\n        <td>Livorno</td>\n    </tr>\n    <tr>\n        <td>Messina</td>\n    </tr>\n    <tr>\n        <td>Milan</td>\n    </tr>\n    <tr>\n        <td>Modena</td>\n    </tr>\n    <tr>\n        <td>Napoli</td>\n    </tr>\n    <tr>\n        <td>Novara</td>\n    </tr>\n    <tr>\n        <td>Palermo</td>\n    </tr>\n    <tr>\n        <td>Parma</td>\n    </tr>\n    <tr>\n        <td>Perugia</td>\n    </tr>\n    <tr>\n        <td>Pescara</td>\n    </tr>\n    <tr>\n        <td>Piacenza</td>\n    </tr>\n    <tr>\n        <td>Reggina</td>\n    </tr>\n    <tr>\n        <td>Roma</td>\n    </tr>\n    <tr>\n        <td>Sampdoria</td>\n    </tr>\n    <tr>\n        <td>Sassuolo</td>\n    </tr>\n    <tr>\n        <td>Siena</td>\n    </tr>\n    <tr>\n        <td>Spal</td>\n    </tr>\n    <tr>\n        <td>Spezia</td>\n    </tr>\n    <tr>\n        <td>Torino</td>\n    </tr>\n    <tr>\n        <td>Treviso</td>\n    </tr>\n    <tr>\n        <td>Udinese</td>\n    </tr>\n    <tr>\n        <td>Verona</td>\n    </tr>\n</table>",
                        "text/plain": "[('Ancona',),\n ('Ascoli',),\n ('Atalanta',),\n ('Bari',),\n ('Benevento',),\n ('Bologna',),\n ('Brescia',),\n ('Cagliari',),\n ('Carpi',),\n ('Catania',),\n ('Cesena',),\n ('Chievo',),\n ('Como',),\n ('Crotone',),\n ('Empoli',),\n ('Fiorentina',),\n ('Frosinone',),\n ('Genoa',),\n ('Inter',),\n ('Juventus',),\n ('Lazio',),\n ('Lecce',),\n ('Livorno',),\n ('Messina',),\n ('Milan',),\n ('Modena',),\n ('Napoli',),\n ('Novara',),\n ('Palermo',),\n ('Parma',),\n ('Perugia',),\n ('Pescara',),\n ('Piacenza',),\n ('Reggina',),\n ('Roma',),\n ('Sampdoria',),\n ('Sassuolo',),\n ('Siena',),\n ('Spal',),\n ('Spezia',),\n ('Torino',),\n ('Treviso',),\n ('Udinese',),\n ('Verona',)]"
                    },
                    "execution_count": 34,
                    "metadata": {},
                    "output_type": "execute_result"
                }
            ],
            "source": "%%sql\n\nSELECT DISTINCT *\nFROM(\nSELECT HOMETEAM FROM SA_2002\nUNION ALL\nSELECT HOMETEAM FROM SA_2003\nUNION ALL\nSELECT HOMETEAM FROM SA_2004\nUNION ALL\nSELECT HOMETEAM FROM SA_2005\nUNION ALL\nSELECT HOMETEAM FROM SA_2006\nUNION ALL\nSELECT HOMETEAM FROM SA_2007\nUNION ALL\nSELECT HOMETEAM FROM SA_2008\nUNION ALL\nSELECT HOMETEAM FROM SA_2009\nUNION ALL\nSELECT HOMETEAM FROM SA_2010\nUNION ALL\nSELECT HOMETEAM FROM SA_2011\nUNION ALL\nSELECT HOMETEAM FROM SA_2012\nUNION ALL\nSELECT HOMETEAM FROM SA_2013\nUNION ALL\nSELECT HOMETEAM FROM SA_2014\nUNION ALL\nSELECT HOMETEAM FROM SA_2015\nUNION ALL\nSELECT HOMETEAM FROM SA_2016\nUNION ALL\nSELECT HOMETEAM FROM SA_2017\nUNION ALL\nSELECT HOMETEAM FROM SA_2018\nUNION ALL\nSELECT HOMETEAM FROM SA_2019\nUNION ALL\nSELECT HOMETEAM FROM SA_2020\n)\nORDER BY HOMETEAM ASC;"
        },
        {
            "cell_type": "markdown",
            "metadata": {},
            "source": "**All teams in the Serie A are ok**"
        },
        {
            "cell_type": "markdown",
            "metadata": {},
            "source": "for the **Ligue 1**:"
        },
        {
            "cell_type": "code",
            "execution_count": 35,
            "metadata": {},
            "outputs": [
                {
                    "name": "stdout",
                    "output_type": "stream",
                    "text": " * ibm_db_sa://vlw69202:***@54a2f15b-5c0f-46df-8954-7e38e612c2bd.c1ogj3sd0tgtu0lqde00.databases.appdomain.cloud:32733/bludb\nDone.\n"
                },
                {
                    "data": {
                        "text/html": "<table>\n    <tr>\n        <th>hometeam</th>\n    </tr>\n    <tr>\n        <td>Ajaccio GFCO</td>\n    </tr>\n    <tr>\n        <td>Amiens</td>\n    </tr>\n    <tr>\n        <td>Angers</td>\n    </tr>\n    <tr>\n        <td>Bastia</td>\n    </tr>\n    <tr>\n        <td>Bordeaux</td>\n    </tr>\n    <tr>\n        <td>Brest</td>\n    </tr>\n    <tr>\n        <td>Caen</td>\n    </tr>\n    <tr>\n        <td>Dijon</td>\n    </tr>\n    <tr>\n        <td>Guingamp</td>\n    </tr>\n    <tr>\n        <td>Lens</td>\n    </tr>\n    <tr>\n        <td>Lille</td>\n    </tr>\n    <tr>\n        <td>Lorient</td>\n    </tr>\n    <tr>\n        <td>Lyon</td>\n    </tr>\n    <tr>\n        <td>Marseille</td>\n    </tr>\n    <tr>\n        <td>Metz</td>\n    </tr>\n    <tr>\n        <td>Monaco</td>\n    </tr>\n    <tr>\n        <td>Montpellier</td>\n    </tr>\n    <tr>\n        <td>Nancy</td>\n    </tr>\n    <tr>\n        <td>Nantes</td>\n    </tr>\n    <tr>\n        <td>Nice</td>\n    </tr>\n    <tr>\n        <td>Nimes</td>\n    </tr>\n    <tr>\n        <td>Paris SG</td>\n    </tr>\n    <tr>\n        <td>Reims</td>\n    </tr>\n    <tr>\n        <td>Rennes</td>\n    </tr>\n    <tr>\n        <td>St Etienne</td>\n    </tr>\n    <tr>\n        <td>Strasbourg</td>\n    </tr>\n    <tr>\n        <td>Toulouse</td>\n    </tr>\n    <tr>\n        <td>Troyes</td>\n    </tr>\n</table>",
                        "text/plain": "[('Ajaccio GFCO',),\n ('Amiens',),\n ('Angers',),\n ('Bastia',),\n ('Bordeaux',),\n ('Brest',),\n ('Caen',),\n ('Dijon',),\n ('Guingamp',),\n ('Lens',),\n ('Lille',),\n ('Lorient',),\n ('Lyon',),\n ('Marseille',),\n ('Metz',),\n ('Monaco',),\n ('Montpellier',),\n ('Nancy',),\n ('Nantes',),\n ('Nice',),\n ('Nimes',),\n ('Paris SG',),\n ('Reims',),\n ('Rennes',),\n ('St Etienne',),\n ('Strasbourg',),\n ('Toulouse',),\n ('Troyes',)]"
                    },
                    "execution_count": 35,
                    "metadata": {},
                    "output_type": "execute_result"
                }
            ],
            "source": "%%sql\n\nSELECT DISTINCT *\nFROM(\nSELECT HOMETEAM FROM L1_2015\nUNION ALL\nSELECT HOMETEAM FROM L1_2016\nUNION ALL\nSELECT HOMETEAM FROM L1_2017\nUNION ALL\nSELECT HOMETEAM FROM L1_2018\nUNION ALL\nSELECT HOMETEAM FROM L1_2019\nUNION ALL\nSELECT HOMETEAM FROM L1_2020\n)\nORDER BY HOMETEAM ASC;"
        },
        {
            "cell_type": "markdown",
            "metadata": {},
            "source": "**All teams in the league 1 are ok**"
        },
        {
            "cell_type": "code",
            "execution_count": null,
            "metadata": {},
            "outputs": [],
            "source": ""
        }
    ],
    "metadata": {
        "kernelspec": {
            "display_name": "Python 3.8",
            "language": "python",
            "name": "python3"
        },
        "language_info": {
            "codemirror_mode": {
                "name": "ipython",
                "version": 3
            },
            "file_extension": ".py",
            "mimetype": "text/x-python",
            "name": "python",
            "nbconvert_exporter": "python",
            "pygments_lexer": "ipython3",
            "version": "3.8.11"
        }
    },
    "nbformat": 4,
    "nbformat_minor": 1
}